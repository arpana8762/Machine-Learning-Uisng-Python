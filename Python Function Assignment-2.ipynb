{
 "cells": [
  {
   "cell_type": "markdown",
   "id": "b3b8fe58-0190-42f4-9998-0ea852bbda50",
   "metadata": {},
   "source": [
    "Q1. Create a Python program to sort the given list of tuples based on integer value using a lambda function.\n"
   ]
  },
  {
   "cell_type": "markdown",
   "id": "3e160f18-4a2e-4390-b5a5-0759fd0ecda1",
   "metadata": {},
   "source": [
    "Definition:\n",
    "Lambda functions in Python are anonymous, one-line functions defined using the lambda keyword. They are often used for small, throwaway functions.\n",
    "\n",
    "Why Use Lambda Functions for Sorting?\n",
    "\n",
    "Concise syntax for simple operations.\n",
    "Avoid the need to define a separate function.\n",
    "Enhance readability for small tasks.\n",
    "Key Features:\n",
    "\n",
    "Can accept multiple arguments.\n",
    "Contain a single expression.\n",
    "Often used with functions like sorted, filter, map, etc.\n",
    "Syntax:\n",
    "\n",
    "lambda arguments: expression\n",
    "Example with Explanation:"
   ]
  },
  {
   "cell_type": "code",
   "execution_count": 1,
   "id": "1a1a2396-7654-4cdd-909f-b0916dfd308f",
   "metadata": {},
   "outputs": [
    {
     "name": "stdout",
     "output_type": "stream",
     "text": [
      "[('Virat Kohli', 24936), ('Jack Kallis', 25534), ('Ricky Ponting', 27483), ('Sachin Tendulkar', 34357)]\n"
     ]
    }
   ],
   "source": [
    "data = [('Sachin Tendulkar', 34357), ('Ricky Ponting', 27483), ('Jack Kallis', 25534), ('Virat Kohli', 24936)]\n",
    "\n",
    "# Sorting based on integer values (second element in tuple)\n",
    "sorted_data = sorted(data, key=lambda x: x[1])\n",
    "\n",
    "print(sorted_data)\n"
   ]
  },
  {
   "cell_type": "markdown",
   "id": "6fe2a959-aeef-4cc3-aa25-e23f1c5d9a1a",
   "metadata": {},
   "source": [
    "Q2. Write a Python Program to find the squares of all the numbers in the given list of integers using lambda and map functions.\n"
   ]
  },
  {
   "cell_type": "markdown",
   "id": "138e3143-97c7-48a3-974c-49994d783816",
   "metadata": {},
   "source": [
    "Definition:\n",
    "\n",
    "The map() function applies a given function to all items in an iterable.\n",
    "A lambda function is often used with map() for compactness.\n",
    "Why Use Lambda and Map?\n",
    "\n",
    "Simplifies applying a function to multiple items.\n",
    "Reduces code length.\n",
    "Key Features of map():\n",
    "\n",
    "Takes a function and an iterable.\n",
    "Returns a map object, which can be converted to a list, tuple, etc.\n",
    "Syntax:\n",
    "\n",
    "map(function, iterable)\n",
    "Example with Explanation:"
   ]
  },
  {
   "cell_type": "code",
   "execution_count": 2,
   "id": "f6e8ffd7-9e53-4437-84df-74d965c5ba8b",
   "metadata": {},
   "outputs": [
    {
     "name": "stdout",
     "output_type": "stream",
     "text": [
      "[1, 4, 9, 16, 25, 36, 49, 64, 81, 100]\n"
     ]
    }
   ],
   "source": [
    "numbers = [1, 2, 3, 4, 5, 6, 7, 8, 9, 10]\n",
    "\n",
    "# Squaring each number\n",
    "squares = list(map(lambda x: x**2, numbers))\n",
    "\n",
    "print(squares)\n"
   ]
  },
  {
   "cell_type": "markdown",
   "id": "02482152-d263-4fc2-a1c2-7549a967ae52",
   "metadata": {},
   "source": [
    "Q3. Write a Python program to convert the given list of integers into a tuple of strings. Use map and lambda functions.\n"
   ]
  },
  {
   "cell_type": "markdown",
   "id": "262c388b-aa41-4074-8ddb-e9611dae9d60",
   "metadata": {},
   "source": [
    "Definition:\n",
    "This task demonstrates the use of map() and lambda to apply transformations to a list.\n",
    "\n",
    "Why Use Tuple of Strings?\n",
    "\n",
    "Useful for operations where elements need to be immutable.\n",
    "Enables structured representation.\n",
    "Example with Explanation:"
   ]
  },
  {
   "cell_type": "code",
   "execution_count": 3,
   "id": "9070440d-6dfe-4a5d-9d1e-13be82b5455a",
   "metadata": {},
   "outputs": [
    {
     "name": "stdout",
     "output_type": "stream",
     "text": [
      "('1', '2', '3', '4', '5', '6', '7', '8', '9', '10')\n"
     ]
    }
   ],
   "source": [
    "numbers = [1, 2, 3, 4, 5, 6, 7, 8, 9, 10]\n",
    "\n",
    "# Converting integers to strings\n",
    "string_tuple = tuple(map(lambda x: str(x), numbers))\n",
    "\n",
    "print(string_tuple)\n"
   ]
  },
  {
   "cell_type": "markdown",
   "id": "b2e12847-668d-4309-a481-1b0a26b0107e",
   "metadata": {},
   "source": [
    "Q4. Write a Python program using the reduce function to compute the product of a list containing numbers from 1 to 25.\n"
   ]
  },
  {
   "cell_type": "markdown",
   "id": "3dc20436-945a-4115-b167-bccea9ac8d0c",
   "metadata": {},
   "source": [
    "Definition:\n",
    "The reduce() function, part of the functools module, reduces an iterable to a single value by applying a binary function cumulatively.\n",
    "\n",
    "Why Use Reduce for Product Calculation?\n",
    "\n",
    "Simplifies iterative reductions.\n",
    "Efficient for cumulative operations.\n",
    "Syntax:\n",
    "\n",
    "reduce(function, iterable)\n",
    "Example with Explanation:"
   ]
  },
  {
   "cell_type": "code",
   "execution_count": 4,
   "id": "e3be3ff1-bdea-4efb-970a-606c0e92bee5",
   "metadata": {},
   "outputs": [
    {
     "name": "stdout",
     "output_type": "stream",
     "text": [
      "15511210043330985984000000\n"
     ]
    }
   ],
   "source": [
    "from functools import reduce\n",
    "\n",
    "numbers = list(range(1, 26))\n",
    "\n",
    "# Calculating product of all numbers\n",
    "product = reduce(lambda x, y: x * y, numbers)\n",
    "\n",
    "print(product)\n"
   ]
  },
  {
   "cell_type": "markdown",
   "id": "3613831e-bff4-4128-a71b-af95738cf894",
   "metadata": {},
   "source": [
    "Q5. Write a Python program to filter the numbers in a given list that are divisible by 2 and 3 using the filter function.\n"
   ]
  },
  {
   "cell_type": "markdown",
   "id": "9f010975-2f12-40f6-a1cc-fe8bfaddc4f0",
   "metadata": {},
   "source": [
    "Definition:\n",
    "The filter() function selects elements from an iterable based on a given condition.\n",
    "\n",
    "Why Use Filter?\n",
    "\n",
    "To extract specific elements from a collection.\n",
    "To improve code readability.\n",
    "Syntax:\n",
    "\n",
    "filter(function, iterable)\n",
    "Example with Explanation:"
   ]
  },
  {
   "cell_type": "code",
   "execution_count": 5,
   "id": "899f8d36-2721-4266-bd9a-0d02bdc21795",
   "metadata": {},
   "outputs": [
    {
     "name": "stdout",
     "output_type": "stream",
     "text": [
      "[6, 60, 90, 120]\n"
     ]
    }
   ],
   "source": [
    "numbers = [2, 3, 6, 9, 27, 60, 90, 120, 55, 46]\n",
    "\n",
    "# Filtering numbers divisible by 2 and 3\n",
    "filtered_numbers = list(filter(lambda x: x % 2 == 0 and x % 3 == 0, numbers))\n",
    "\n",
    "print(filtered_numbers)\n"
   ]
  },
  {
   "cell_type": "markdown",
   "id": "11b66189-8aa1-45b5-b7f4-1aa31732db4c",
   "metadata": {},
   "source": [
    "Q6. Write a Python program to find palindromes in the given list of strings using lambda and filter functions.\n"
   ]
  },
  {
   "cell_type": "markdown",
   "id": "9a436e89-6dea-4b61-bafc-812a6d96f527",
   "metadata": {},
   "source": [
    "Definition:\n",
    "A palindrome is a string that reads the same forwards and backwards.\n",
    "\n",
    "Why Use Lambda and Filter for Palindrome Detection?\n",
    "\n",
    "Simplifies conditional checks.\n",
    "Allows concise filtering of a collection.\n",
    "Example with Explanation:"
   ]
  },
  {
   "cell_type": "code",
   "execution_count": 6,
   "id": "baa64489-9181-45d2-9ede-9b3ee77585b8",
   "metadata": {},
   "outputs": [
    {
     "name": "stdout",
     "output_type": "stream",
     "text": [
      "['php', 'aba', 'radar', 'level']\n"
     ]
    }
   ],
   "source": [
    "words = ['python', 'php', 'aba', 'radar', 'level']\n",
    "\n",
    "# Filtering palindromes\n",
    "palindromes = list(filter(lambda word: word == word[::-1], words))\n",
    "\n",
    "print(palindromes)\n"
   ]
  },
  {
   "cell_type": "code",
   "execution_count": null,
   "id": "453b78be-33e5-4c69-9b95-71a8a09bf57e",
   "metadata": {},
   "outputs": [],
   "source": []
  }
 ],
 "metadata": {
  "kernelspec": {
   "display_name": "Python 3 (ipykernel)",
   "language": "python",
   "name": "python3"
  },
  "language_info": {
   "codemirror_mode": {
    "name": "ipython",
    "version": 3
   },
   "file_extension": ".py",
   "mimetype": "text/x-python",
   "name": "python",
   "nbconvert_exporter": "python",
   "pygments_lexer": "ipython3",
   "version": "3.11.5"
  }
 },
 "nbformat": 4,
 "nbformat_minor": 5
}

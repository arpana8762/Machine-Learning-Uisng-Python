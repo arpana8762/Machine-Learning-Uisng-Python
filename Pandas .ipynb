{
 "cells": [
  {
   "cell_type": "markdown",
   "id": "e44979b9-fa1d-4a11-a47e-0083473dbf4f",
   "metadata": {},
   "source": [
    "# Q1: Create a Pandas Series that contains the following data: 4, 8, 15, 16, 23, and 42. Then, print the series."
   ]
  },
  {
   "cell_type": "markdown",
   "id": "c2e38225-61a3-42e8-ad8d-e1b654039687",
   "metadata": {},
   "source": [
    "## Answer:\n",
    "A Pandas Series is a one-dimensional labeled array capable of holding any data type.\n",
    "\n",
    "## Steps:\n",
    "1. Import the pandas library.\n",
    "2. Create a Series using the pd.Series function and pass the given data as a list.\n",
    "3. Print the Series.\n",
    "## Code Example:"
   ]
  },
  {
   "cell_type": "code",
   "execution_count": 3,
   "id": "60cb0e4d-7664-439e-9b72-f1844a60c0eb",
   "metadata": {},
   "outputs": [
    {
     "name": "stdout",
     "output_type": "stream",
     "text": [
      "0     4\n",
      "1     8\n",
      "2    15\n",
      "3    16\n",
      "4    23\n",
      "5    42\n",
      "dtype: int64\n"
     ]
    }
   ],
   "source": [
    "import pandas as pd\n",
    "\n",
    "# Creating the series\n",
    "data = [4, 8, 15, 16, 23, 42]\n",
    "series = pd.Series(data)\n",
    "\n",
    "# Printing the series\n",
    "print(series)\n"
   ]
  },
  {
   "cell_type": "markdown",
   "id": "9d2179cb-b860-444a-8476-0edf17efdb87",
   "metadata": {},
   "source": [
    "# Q2: Create a variable of list type containing 10 elements in it, and apply pandas.Series function on the variable and print it."
   ]
  },
  {
   "cell_type": "markdown",
   "id": "06a767a7-1465-43de-8570-3b94faddb1a1",
   "metadata": {},
   "source": [
    "## Answer:\n",
    "We will create a list of 10 elements and convert it into a Pandas Series.\n",
    "\n",
    "## Steps:\n",
    "1. Create a list containing 10 elements.\n",
    "2. Use the pd.Series() function to convert the list into a Series.\n",
    "3. Print the Series.\n",
    "\n",
    "## Code Example:"
   ]
  },
  {
   "cell_type": "code",
   "execution_count": 7,
   "id": "e040aa22-9392-4d58-9701-3f5fdd0371cd",
   "metadata": {},
   "outputs": [
    {
     "name": "stdout",
     "output_type": "stream",
     "text": [
      "0     1\n",
      "1     2\n",
      "2     3\n",
      "3     4\n",
      "4     5\n",
      "5     6\n",
      "6     7\n",
      "7     8\n",
      "8     9\n",
      "9    10\n",
      "dtype: int64\n"
     ]
    }
   ],
   "source": [
    "# Creating a list\n",
    "my_list = [1, 2, 3, 4, 5, 6, 7, 8, 9, 10]\n",
    "\n",
    "# Converting the list into a Pandas Series\n",
    "series_from_list = pd.Series(my_list)\n",
    "\n",
    "# Printing the series\n",
    "print(series_from_list)\n"
   ]
  },
  {
   "cell_type": "markdown",
   "id": "1e18f32f-869a-4d59-aabb-3aba506f6248",
   "metadata": {},
   "source": [
    "# Q3: Create a Pandas DataFrame that contains the following data, then print the DataFrame."
   ]
  },
  {
   "cell_type": "markdown",
   "id": "a3ed0b63-6dec-409d-9897-209252d28fb4",
   "metadata": {},
   "source": [
    "## Answer:\n",
    "A Pandas DataFrame is a two-dimensional labeled data structure.\n",
    "\n",
    "## Steps:\n",
    "1. Define the data as a dictionary where keys are column names and values are lists.\n",
    "2. Use the pd.DataFrame() function to create the DataFrame.\n",
    "3. Print the DataFrame.\n",
    "\n",
    "## Code Example:"
   ]
  },
  {
   "cell_type": "code",
   "execution_count": 11,
   "id": "15918551-939f-4d56-8b4a-bc24798e5da2",
   "metadata": {},
   "outputs": [
    {
     "name": "stdout",
     "output_type": "stream",
     "text": [
      "     Name  Age  Gender\n",
      "0   Alice   25  Female\n",
      "1     Bob   30    Male\n",
      "2  Claire   27  Female\n"
     ]
    }
   ],
   "source": [
    "# Defining the data\n",
    "data = {\n",
    "    \"Name\": [\"Alice\", \"Bob\", \"Claire\"],\n",
    "    \"Age\": [25, 30, 27],\n",
    "    \"Gender\": [\"Female\", \"Male\", \"Female\"]\n",
    "}\n",
    "\n",
    "# Creating the DataFrame\n",
    "df = pd.DataFrame(data)\n",
    "\n",
    "# Printing the DataFrame\n",
    "print(df)\n"
   ]
  },
  {
   "cell_type": "markdown",
   "id": "1ab76bd6-1a24-4157-b556-6bbe95f0e6fa",
   "metadata": {},
   "source": [
    "# Q4: What is ‘DataFrame’ in pandas and how is it different from pandas.Series? Explain with an example."
   ]
  },
  {
   "cell_type": "markdown",
   "id": "47852f21-2c47-471f-9182-5ea1a4f58960",
   "metadata": {},
   "source": [
    "# Pandas DataFrame\n",
    "\n",
    "A **DataFrame in pandas** is a two-dimensional, size-mutable, and heterogeneous tabular data structure. It is one of the most widely used data structures in pandas and allows for data manipulation and analysis. It can store data in rows and columns with labeled axes (rows and columns).\n",
    "\n",
    "## Syntax for Creating a DataFrame"
   ]
  },
  {
   "cell_type": "markdown",
   "id": "a3b86847-f402-416b-a009-7c60803947bb",
   "metadata": {},
   "source": [
    "- import pandas as pd\n",
    "\n",
    "- # Syntax\n",
    "**df = pd.DataFrame(data, index, columns, dtype, copy)**\n"
   ]
  },
  {
   "cell_type": "markdown",
   "id": "52b2b39d-2de5-45f0-b843-153e1adb1d2f",
   "metadata": {},
   "source": [
    "- data: Data to be loaded, such as lists, dictionaries, or numpy arrays.\n",
    "- index: Custom row labels (optional).\n",
    "- columns: Custom column labels (optional).\n",
    "- dtype: Data type for elements (optional).\n",
    "- copy: Whether to copy the input data (optional).\n",
    "\n",
    "# Pandas Series\n",
    "A Series in pandas is a one-dimensional labeled array that holds data of any type (e.g., integers, strings, floating-point numbers). Each element in a Series has a unique label or index.\n",
    "\n",
    "## Syntax for Creating a Series\n",
    "\n",
    "- import pandas as pd\n",
    "\n",
    "# Syntax\n",
    "- **series = pd.Series(data, index, dtype, copy)**\n",
    "- data: Data for the Series, such as a list or dictionary.\n",
    "- index: Custom labels for the data (optional).\n",
    "- dtype: Data type for the Series (optional).\n",
    "- copy: Whether to copy the data (optional).\n",
    "\n",
    "# Key Differences Between DataFrame and Series\n",
    "\n",
    "<Table>\n",
    "    <tr><Th>Feature\t<Th>DataFrame\t<Th>Series</tr>\n",
    "<tr><Td>Dimensions\t<Td>Two-dimensional (rows and columns).\t<Td>One-dimensional (like a list).</tr>\n",
    "<tr><Td>Data Structure\t<Td>Tabular structure with labeled rows & columns.\t<Td>Labeled array.</tr>\n",
    "<tr><Td>Heterogeneity\t<Td>Can store heterogeneous data in columns.\t<Td>Typically homogeneous.</tr>\n",
    "<tr><Td>Indexing\t<Td>Indexed by row and column labels.\t<Td>Indexed by row labels only.</tr>\n",
    "<tr><Td>Usage\t<Td>Used for complex, tabular data manipulation.\t<Td>Used for single-column or simple data.</tr>\n",
    "\n",
    "    # Properties of DataFrame and Series\n",
    "## DataFrame Properties\n",
    "\n",
    "- **Shape:** Returns (rows, columns) of the DataFrame.\n",
    "- **Index:** Row labels of the DataFrame.\n",
    "- **Columns:** Column labels of the DataFrame.\n",
    "- **Dtype:** Data types of columns.\n",
    "- **Size:** Total number of elements (rows × columns).\n",
    "Series Properties\n",
    "- **Index:** Labels of the Series.\n",
    "- **Dtype:** Data type of the elements.\n",
    "- **Size:** Total number of elements.\n",
    "- **Values:** Array containing the data.\n",
    "## Examples\n",
    "\n",
    "### Creating a Series\n"
   ]
  },
  {
   "cell_type": "code",
   "execution_count": 27,
   "id": "86a1c842-362c-4327-9970-351624660d48",
   "metadata": {},
   "outputs": [
    {
     "name": "stdout",
     "output_type": "stream",
     "text": [
      "Series:\n",
      "A    1\n",
      "B    2\n",
      "C    3\n",
      "D    4\n",
      "dtype: int64\n"
     ]
    }
   ],
   "source": [
    "# Creating a Series\n",
    "series = pd.Series([1, 2, 3, 4], index=[\"A\", \"B\", \"C\", \"D\"])\n",
    "print(\"Series:\")\n",
    "print(series)"
   ]
  },
  {
   "cell_type": "markdown",
   "id": "be98204a-bfd6-408b-8af4-37aebdaa5d40",
   "metadata": {},
   "source": [
    "### Creating a DataFrame\n",
    "\n"
   ]
  },
  {
   "cell_type": "code",
   "execution_count": 30,
   "id": "f3071a71-a663-4a05-881f-b50b45027914",
   "metadata": {},
   "outputs": [
    {
     "name": "stdout",
     "output_type": "stream",
     "text": [
      "DataFrame:\n",
      "     Name  Age  Gender\n",
      "0   Alice   25  Female\n",
      "1     Bob   30    Male\n",
      "2  Claire   27  Female\n"
     ]
    }
   ],
   "source": [
    "\n",
    "# Creating a DataFrame\n",
    "data = {\n",
    "    \"Name\": [\"Alice\", \"Bob\", \"Claire\"],\n",
    "    \"Age\": [25, 30, 27],\n",
    "    \"Gender\": [\"Female\", \"Male\", \"Female\"]\n",
    "}\n",
    "df = pd.DataFrame(data)\n",
    "print(\"DataFrame:\")\n",
    "print(df)"
   ]
  },
  {
   "cell_type": "markdown",
   "id": "ff3dddbd-3af8-49f0-b651-bc6e651440ea",
   "metadata": {},
   "source": [
    "# Where to Use What and Why\n",
    "\n",
    "## When to Use a Series:\n",
    "Use a Series when dealing with one-dimensional data (e.g., time series, list of numbers, or a single column of data).\n",
    "\n",
    "## Examples:\n",
    "- Storing stock prices for a single day.\n",
    "- Tracking daily temperatures.\n",
    "\n",
    "## When to Use a DataFrame:\n",
    "Use a DataFrame when handling tabular data with multiple variables or features.\n",
    "\n",
    "## Examples:\n",
    "\n",
    "- Analyzing customer data with attributes like Name, Age, Gender.\n",
    "- Handling datasets with multiple columns for machine learning or data analysis.\n",
    "\n",
    "## Key Insights\n",
    "\n",
    "- **Complexity:** Use DataFrame for multi-dimensional data manipulation.\n",
    "- **Efficiency:** Series is simpler and lightweight for single-column data.\n",
    "- **Flexibility** DataFrame allows for more complex operations like grouping, merging, and aggregations.\n",
    "- **Scalability:** DataFrame is more suited for datasets used in data analysis and machine learning."
   ]
  },
  {
   "cell_type": "markdown",
   "id": "e36db9e8-105e-44f2-af12-a5f8b1bcdfdc",
   "metadata": {},
   "source": [
    "## Answer in Short :\n",
    "\n",
    "## DataFrame: A two-dimensional, mutable, tabular data structure in pandas with labeled rows and columns.\n",
    "## Series: A one-dimensional labeled array.\n",
    "\n",
    "### Key Differences:\n",
    "\n",
    "<Table><TR> <TH>Feature\t<TH>DataFrame\t<TH>Series</TR>\n",
    "<TR> <TD>Dimensions\t<TD>Two (Rows & Columns)\t<TD>One</TR>\n",
    "<TR> <TD>Data Storage\t<TD>Multiple Series or Arrays\t<TD>Single array</TR>\n",
    "<TR> <TD>Usage\t<TD>Tabular data\t<TD>Single column or array</TR>\n",
    "</table>\n",
    "\n",
    "## Example:"
   ]
  },
  {
   "cell_type": "code",
   "execution_count": 35,
   "id": "a9545ff1-21d0-400a-aeea-e20e3ead6c7e",
   "metadata": {},
   "outputs": [
    {
     "name": "stdout",
     "output_type": "stream",
     "text": [
      "Series:\n",
      " 0    1\n",
      "1    2\n",
      "2    3\n",
      "dtype: int64\n"
     ]
    }
   ],
   "source": [
    "\n",
    "\n",
    "# Series example\n",
    "series = pd.Series([1, 2, 3])\n",
    "print(\"Series:\\n\", series)\n",
    "\n"
   ]
  },
  {
   "cell_type": "code",
   "execution_count": 37,
   "id": "9c072c0b-1f75-4509-97eb-a2c08b1255c0",
   "metadata": {},
   "outputs": [
    {
     "name": "stdout",
     "output_type": "stream",
     "text": [
      "\n",
      "DataFrame:\n",
      "    Column1  Column2\n",
      "0        1        4\n",
      "1        2        5\n",
      "2        3        6\n"
     ]
    }
   ],
   "source": [
    "# DataFrame example\n",
    "data = {\"Column1\": [1, 2, 3], \"Column2\": [4, 5, 6]}\n",
    "df = pd.DataFrame(data)\n",
    "print(\"\\nDataFrame:\\n\", df)"
   ]
  },
  {
   "cell_type": "markdown",
   "id": "a03c6cef-42c5-44a7-9be6-23524e319c57",
   "metadata": {},
   "source": [
    "# Q5: What are some common functions you can use to manipulate data in a Pandas DataFrame? Provide examples."
   ]
  },
  {
   "cell_type": "markdown",
   "id": "21b24ed8-f990-4232-8f14-ccd0a7a43ee6",
   "metadata": {},
   "source": [
    "# Common Functions to Manipulate Data in a Pandas DataFrame\n",
    "Pandas provides a rich set of functions for data manipulation, enabling efficient data wrangling. Here's a detailed guide with syntax, properties, examples, and use cases.\n",
    "\n",
    "# 1. Viewing and Inspecting Data\n",
    "## Functions:\n",
    "- **head():** Displays the first few rows.\n",
    "- **tail():** Displays the last few rows.\n",
    "- **info():** Provides a summary of the DataFrame.\n",
    "- **describe():** Generates descriptive statistics for numerical columns.\n",
    "\n",
    "## Syntax:\n",
    "\n",
    "# Viewing data\n",
    "\n"
   ]
  },
  {
   "cell_type": "code",
   "execution_count": 49,
   "id": "9bc9a722-d12a-4a9b-9b8f-050465229c73",
   "metadata": {},
   "outputs": [
    {
     "name": "stdout",
     "output_type": "stream",
     "text": [
      "<class 'pandas.core.frame.DataFrame'>\n",
      "RangeIndex: 3 entries, 0 to 2\n",
      "Data columns (total 2 columns):\n",
      " #   Column   Non-Null Count  Dtype\n",
      "---  ------   --------------  -----\n",
      " 0   Column1  3 non-null      int64\n",
      " 1   Column2  3 non-null      int64\n",
      "dtypes: int64(2)\n",
      "memory usage: 180.0 bytes\n"
     ]
    },
    {
     "data": {
      "text/html": [
       "<div>\n",
       "<style scoped>\n",
       "    .dataframe tbody tr th:only-of-type {\n",
       "        vertical-align: middle;\n",
       "    }\n",
       "\n",
       "    .dataframe tbody tr th {\n",
       "        vertical-align: top;\n",
       "    }\n",
       "\n",
       "    .dataframe thead th {\n",
       "        text-align: right;\n",
       "    }\n",
       "</style>\n",
       "<table border=\"1\" class=\"dataframe\">\n",
       "  <thead>\n",
       "    <tr style=\"text-align: right;\">\n",
       "      <th></th>\n",
       "      <th>Column1</th>\n",
       "      <th>Column2</th>\n",
       "    </tr>\n",
       "  </thead>\n",
       "  <tbody>\n",
       "    <tr>\n",
       "      <th>count</th>\n",
       "      <td>3.0</td>\n",
       "      <td>3.0</td>\n",
       "    </tr>\n",
       "    <tr>\n",
       "      <th>mean</th>\n",
       "      <td>2.0</td>\n",
       "      <td>5.0</td>\n",
       "    </tr>\n",
       "    <tr>\n",
       "      <th>std</th>\n",
       "      <td>1.0</td>\n",
       "      <td>1.0</td>\n",
       "    </tr>\n",
       "    <tr>\n",
       "      <th>min</th>\n",
       "      <td>1.0</td>\n",
       "      <td>4.0</td>\n",
       "    </tr>\n",
       "    <tr>\n",
       "      <th>25%</th>\n",
       "      <td>1.5</td>\n",
       "      <td>4.5</td>\n",
       "    </tr>\n",
       "    <tr>\n",
       "      <th>50%</th>\n",
       "      <td>2.0</td>\n",
       "      <td>5.0</td>\n",
       "    </tr>\n",
       "    <tr>\n",
       "      <th>75%</th>\n",
       "      <td>2.5</td>\n",
       "      <td>5.5</td>\n",
       "    </tr>\n",
       "    <tr>\n",
       "      <th>max</th>\n",
       "      <td>3.0</td>\n",
       "      <td>6.0</td>\n",
       "    </tr>\n",
       "  </tbody>\n",
       "</table>\n",
       "</div>"
      ],
      "text/plain": [
       "       Column1  Column2\n",
       "count      3.0      3.0\n",
       "mean       2.0      5.0\n",
       "std        1.0      1.0\n",
       "min        1.0      4.0\n",
       "25%        1.5      4.5\n",
       "50%        2.0      5.0\n",
       "75%        2.5      5.5\n",
       "max        3.0      6.0"
      ]
     },
     "execution_count": 49,
     "metadata": {},
     "output_type": "execute_result"
    }
   ],
   "source": [
    "df.head(n=5)       # First n rows (default: 5)\n",
    "df.tail(n=5)       # Last n rows\n",
    "df.info()          # Summary of the DataFrame\n",
    "df.describe()      # Descriptive statistics"
   ]
  },
  {
   "cell_type": "markdown",
   "id": "0b8294c4-ae52-47ae-9ecb-690426294b75",
   "metadata": {},
   "source": [
    "# Example:"
   ]
  },
  {
   "cell_type": "code",
   "execution_count": 51,
   "id": "8e8028e2-d6cd-4712-a46d-64b0c289ec40",
   "metadata": {},
   "outputs": [
    {
     "name": "stdout",
     "output_type": "stream",
     "text": [
      "    Name  Age  Salary\n",
      "0  Alice   25   50000\n",
      "1    Bob   30   60000\n",
      "<class 'pandas.core.frame.DataFrame'>\n",
      "RangeIndex: 3 entries, 0 to 2\n",
      "Data columns (total 3 columns):\n",
      " #   Column  Non-Null Count  Dtype \n",
      "---  ------  --------------  ----- \n",
      " 0   Name    3 non-null      object\n",
      " 1   Age     3 non-null      int64 \n",
      " 2   Salary  3 non-null      int64 \n",
      "dtypes: int64(2), object(1)\n",
      "memory usage: 204.0+ bytes\n",
      "None\n",
      "             Age   Salary\n",
      "count   3.000000      3.0\n",
      "mean   27.333333  60000.0\n",
      "std     2.516611  10000.0\n",
      "min    25.000000  50000.0\n",
      "25%    26.000000  55000.0\n",
      "50%    27.000000  60000.0\n",
      "75%    28.500000  65000.0\n",
      "max    30.000000  70000.0\n"
     ]
    }
   ],
   "source": [
    "\n",
    "import pandas as pd\n",
    "\n",
    "data = {\"Name\": [\"Alice\", \"Bob\", \"Claire\"], \"Age\": [25, 30, 27], \"Salary\": [50000, 60000, 70000]}\n",
    "df = pd.DataFrame(data)\n",
    "\n",
    "print(df.head(2))  # View first 2 rows\n",
    "print(df.info())   # DataFrame summary\n",
    "print(df.describe())  # Descriptive statistics"
   ]
  },
  {
   "cell_type": "markdown",
   "id": "a6f1ac94-7196-4469-9a62-e2795d5e07a1",
   "metadata": {},
   "source": [
    "# Where to Use:\n",
    "- Inspect the structure and basic statistics of the dataset.\n",
    "- Check for missing or null values.\n",
    "\n",
    "# 2. Selecting and Indexing\n",
    "## Functions:\n",
    "- **loc[]:** Label-based indexing.\n",
    "- **iloc[]:** Integer-based indexing.\n",
    "- **[]:** Access single or multiple columns.\n",
    "## Syntax:"
   ]
  },
  {
   "cell_type": "markdown",
   "id": "ba0f96ba-3dec-472f-a231-e368007db53e",
   "metadata": {},
   "source": [
    "# Selecting data\n",
    "- df.loc[row_labels, column_labels]   # Select by labels\n",
    "- df.iloc[row_indices, column_indices]  # Select by indices\n",
    "- df['column_name']   # Access a single column\n",
    "- df[['col1', 'col2']]  # Access multiple columns\n",
    "# Example:"
   ]
  },
  {
   "cell_type": "code",
   "execution_count": 58,
   "id": "7458279d-7507-48a2-98e7-7e4adaef489f",
   "metadata": {},
   "outputs": [
    {
     "name": "stdout",
     "output_type": "stream",
     "text": [
      "Alice\n",
      "60000\n"
     ]
    }
   ],
   "source": [
    "# Select specific rows and columns\n",
    "print(df.loc[0, 'Name'])  # Get the first row's Name\n",
    "print(df.iloc[1, 2])  # Get second row, third column value"
   ]
  },
  {
   "cell_type": "markdown",
   "id": "daa74cfb-fc67-491f-87ff-744d452f68e9",
   "metadata": {},
   "source": [
    "# Where to Use:\n",
    "- Extract subsets of data for further analysis.\n",
    "- Perform row-wise or column-wise operations.\n",
    "\n",
    "# 3. Filtering and Querying\n",
    "\n",
    "## Functions:\n",
    "\n",
    "- **Boolean filtering:** Use conditional operators.\n",
    "\n",
    "- **query():** Query the DataFrame with an expression.\n",
    "\n",
    "## Syntax:"
   ]
  },
  {
   "cell_type": "markdown",
   "id": "1f79d368-3a5f-4be9-8cf5-1cf7146e917f",
   "metadata": {},
   "source": [
    "# Filtering rows\n",
    "- df[df['column'] > value]   # Filter rows based on a condition\n",
    "- df.query('column > value')  # Query using an expression\n",
    "\n",
    "#Example:"
   ]
  },
  {
   "cell_type": "code",
   "execution_count": 63,
   "id": "e48fbc07-f600-40a3-8149-6f3753634a68",
   "metadata": {},
   "outputs": [
    {
     "name": "stdout",
     "output_type": "stream",
     "text": [
      "     Name  Age  Salary\n",
      "1     Bob   30   60000\n",
      "2  Claire   27   70000\n",
      "     Name  Age  Salary\n",
      "1     Bob   30   60000\n",
      "2  Claire   27   70000\n"
     ]
    }
   ],
   "source": [
    "# Filter employees with Salary > 55000\n",
    "filtered_df = df[df['Salary'] > 55000]\n",
    "print(filtered_df)\n",
    "\n",
    "# Using query\n",
    "filtered_df = df.query('Salary > 55000')\n",
    "print(filtered_df)"
   ]
  },
  {
   "cell_type": "markdown",
   "id": "09daea8c-ebd7-4a0e-a08e-4cbf4e0f9b30",
   "metadata": {},
   "source": [
    "# Where to Use:\n",
    "- Extract data subsets based on conditions.\n",
    "- Perform exploratory data analysis.\n",
    "\n",
    "# 4. Adding, Updating, and Deleting Columns\n",
    "## Functions:\n",
    "- **Add: Directly assign values to a new column.\n",
    "- **Update: Modify column values.\n",
    "- **Delete: Use drop() or del.\n",
    "\n",
    "## Syntax:"
   ]
  },
  {
   "cell_type": "markdown",
   "id": "b7003e53-8fe2-4419-8a1c-130059121bef",
   "metadata": {},
   "source": [
    "# Adding columns\n",
    "- df['new_col'] = value\n",
    "\n",
    "# Updating values\n",
    "- df['col'] = df['col'].apply(func)\n",
    "\n",
    "# Deleting columns\n",
    "- df.drop('col', axis=1, inplace=True)  # Drop column\n",
    "- del df['col']  # Alternative\n",
    "# Example:"
   ]
  },
  {
   "cell_type": "code",
   "execution_count": 70,
   "id": "04e2696a-b52f-4ef0-a111-a8fe38934d42",
   "metadata": {},
   "outputs": [
    {
     "name": "stdout",
     "output_type": "stream",
     "text": [
      "     Name  Age  Salary\n",
      "0   Alice   25   50000\n",
      "1     Bob   30   60000\n",
      "2  Claire   27   70000\n"
     ]
    }
   ],
   "source": [
    "# Adding a column\n",
    "df['Bonus'] = df['Salary'] * 0.1\n",
    "\n",
    "# Deleting a column\n",
    "df.drop('Bonus', axis=1, inplace=True)\n",
    "print(df)"
   ]
  },
  {
   "cell_type": "markdown",
   "id": "b086db4c-12a2-418e-beb1-2ae1f7621ef5",
   "metadata": {},
   "source": [
    "# Where to Use:\n",
    "- Add derived metrics to the dataset.\n",
    "- Remove redundant columns.\n",
    "\n",
    "# 5. Grouping and Aggregations\n",
    "\n",
    "## Functions:\n",
    "- **groupby():** Group rows by a column.\n",
    "- **Aggregations:** sum(), mean(), count(), etc.\n",
    "\n",
    "# Syntax:\n",
    "\n",
    "# Grouping and aggregation\n",
    "- df.groupby('column').agg({'col1': 'sum', 'col2': 'mean'})\n",
    "\n",
    "## Example:"
   ]
  },
  {
   "cell_type": "code",
   "execution_count": 74,
   "id": "a6dc7f3c-9c3f-4afa-9627-28e760e8031d",
   "metadata": {},
   "outputs": [
    {
     "name": "stdout",
     "output_type": "stream",
     "text": [
      "Age\n",
      "25    50000.0\n",
      "27    70000.0\n",
      "30    60000.0\n",
      "Name: Salary, dtype: float64\n"
     ]
    }
   ],
   "source": [
    "\n",
    "\n",
    "# Group by Age and calculate average Salary\n",
    "grouped = df.groupby('Age')['Salary'].mean()\n",
    "print(grouped)"
   ]
  },
  {
   "cell_type": "markdown",
   "id": "8fefafa7-5cbb-444d-9be1-3aad3423ee7c",
   "metadata": {},
   "source": [
    "# Where to Use:\n",
    "- Summarize data based on categories.\n",
    "- Perform statistical operations on grouped data.\n",
    "# 6. Merging, Joining, and Concatenating\n",
    "# Functions:\n",
    "- **merge():** Merge two DataFrames based on a key.\n",
    "- **join():** Join DataFrames on index or keys.\n",
    "- **concat():** Concatenate along rows or columns.\n",
    "# Syntax:\n",
    "\n",
    "# Merging\n",
    "- pd.merge(df1, df2, on='key')\n",
    "\n",
    "# Concatenating\n",
    "- pd.concat([df1, df2], axis=0)  # Vertical\n",
    "- pd.concat([df1, df2], axis=1)  # Horizontal\n",
    "# Example:"
   ]
  },
  {
   "cell_type": "code",
   "execution_count": 79,
   "id": "42bd3acd-b492-4831-8801-c76047abfa08",
   "metadata": {},
   "outputs": [
    {
     "name": "stdout",
     "output_type": "stream",
     "text": [
      "   ID   Name  Salary\n",
      "0   1  Alice   50000\n",
      "1   2    Bob   60000\n"
     ]
    }
   ],
   "source": [
    "# DataFrames to merge\n",
    "data1 = {\"ID\": [1, 2], \"Name\": [\"Alice\", \"Bob\"]}\n",
    "data2 = {\"ID\": [1, 2], \"Salary\": [50000, 60000]}\n",
    "\n",
    "df1 = pd.DataFrame(data1)\n",
    "df2 = pd.DataFrame(data2)\n",
    "\n",
    "# Merge on ID\n",
    "merged_df = pd.merge(df1, df2, on=\"ID\")\n",
    "print(merged_df)\n"
   ]
  },
  {
   "cell_type": "markdown",
   "id": "a2a6ceb5-a4ae-4d1e-991c-bdbcf935ce3f",
   "metadata": {},
   "source": [
    "# Where to Use:\n",
    "- Combine datasets with common keys or indices.\n",
    "- Aggregate data from multiple sources.\n",
    "- 3 7. Handling Missing Data\n",
    "## Functions:\n",
    "- **isnull():** Identify missing values.\n",
    "- **fillna():** Replace missing values.\n",
    "- **dropna():** Remove rows/columns with missing data.\n",
    "## Syntax:\n",
    "\n",
    "\n",
    "# Handling missing data\n",
    "- **df.isnull()**\n",
    "- **df.fillna(value, inplace=True)**\n",
    "- **df.dropna(axis=0, inplace=True)**  # Drop rows with NaN\n",
    "# Example:"
   ]
  },
  {
   "cell_type": "code",
   "execution_count": 87,
   "id": "8b44d3d8-2dab-45db-91ac-0b1da7348d31",
   "metadata": {},
   "outputs": [
    {
     "name": "stdout",
     "output_type": "stream",
     "text": [
      "     Name  Age   Salary\n",
      "0   Alice   25  50000.0\n",
      "1     Bob   30      0.0\n",
      "2  Claire   27  70000.0\n"
     ]
    },
    {
     "name": "stderr",
     "output_type": "stream",
     "text": [
      "C:\\Users\\Arpana-\\AppData\\Local\\Temp\\ipykernel_12240\\615332178.py:3: FutureWarning: A value is trying to be set on a copy of a DataFrame or Series through chained assignment using an inplace method.\n",
      "The behavior will change in pandas 3.0. This inplace method will never work because the intermediate object on which we are setting values always behaves as a copy.\n",
      "\n",
      "For example, when doing 'df[col].method(value, inplace=True)', try using 'df.method({col: value}, inplace=True)' or df[col] = df[col].method(value) instead, to perform the operation inplace on the original object.\n",
      "\n",
      "\n",
      "  df['Salary'].fillna(0, inplace=True)  # Fill missing data with 0\n"
     ]
    }
   ],
   "source": [
    "\n",
    "\n",
    "# Handling missing data\n",
    "df.loc[1, 'Salary'] = None  # Introduce missing data\n",
    "df['Salary'].fillna(0, inplace=True)  # Fill missing data with 0\n",
    "print(df)"
   ]
  },
  {
   "cell_type": "markdown",
   "id": "6adfb6a3-a4fa-46e6-8e78-20cd2e54120d",
   "metadata": {},
   "source": [
    "# Where to Use:\n",
    "\n",
    "- Handle missing or incomplete datasets before analysis.\n",
    "- Improve data quality.\n",
    "\n",
    "## Key Insights\n",
    "\n",
    "- **Flexibility:** Functions like groupby(), merge(), and concat() allow you to manipulate complex datasets.\n",
    "- **Efficiency:** Functions such as fillna() and query() handle large datasets efficiently.\n",
    "- **Choice:** Use filtering (df[]) for quick selections and groupby() for aggregations.\n",
    "\n",
    "Choosing the right function depends on your data manipulation goals. With these tools, you can perform advanced data cleaning, exploration, and preparation efficiently."
   ]
  },
  {
   "cell_type": "markdown",
   "id": "2a21447b-1e8a-4be6-8194-9cbf1ae648e6",
   "metadata": {},
   "source": [
    "# In Short- Here are some common functions:\n",
    "\n",
    "- **head():** View the first few rows.\n",
    "- **tail():** View the last few rows.\n",
    "- **describe():** Summarize statistics.\n",
    "- **sort_values():** Sort by a column.\n",
    "- **groupby():** Group data and apply functions.\n",
    "- **drop():** Remove rows/columns.\n",
    "# Example: Sorting Data:"
   ]
  },
  {
   "cell_type": "code",
   "execution_count": 91,
   "id": "415ba1b6-aecf-4004-8c53-8eca1b3d60ca",
   "metadata": {},
   "outputs": [
    {
     "name": "stdout",
     "output_type": "stream",
     "text": [
      "     Name  Age\n",
      "1     Bob   30\n",
      "2  Claire   27\n",
      "0   Alice   25\n"
     ]
    }
   ],
   "source": [
    "# DataFrame\n",
    "data = {\"Name\": [\"Alice\", \"Bob\", \"Claire\"], \"Age\": [25, 30, 27]}\n",
    "df = pd.DataFrame(data)\n",
    "\n",
    "# Sorting by Age\n",
    "sorted_df = df.sort_values(by=\"Age\", ascending=False)\n",
    "print(sorted_df)"
   ]
  },
  {
   "cell_type": "markdown",
   "id": "35b76445-8c0c-4c7e-ae1c-c19b9ae0aa27",
   "metadata": {},
   "source": [
    "# Q6: Which of the following is mutable in nature: Series, DataFrame, Panel?"
   ]
  },
  {
   "cell_type": "markdown",
   "id": "cb0c6e49-5d05-4423-83c5-bec83d8696d5",
   "metadata": {},
   "source": [
    "# In Short \n",
    "- **Mutable:** Both Series and DataFrame are mutable in nature.\n",
    "- **Panel:** Deprecated, but it was also mutable."
   ]
  },
  {
   "cell_type": "markdown",
   "id": "c37f69f4-5c74-403a-bdc1-7a7b47ad1f6f",
   "metadata": {},
   "source": [
    "In pandas, both Series and DataFrame are mutable in nature, while the Panel object is deprecated as of pandas 1.0.0 and is no longer used.\n",
    "\n",
    "Let’s explore each structure in detail, including their syntax, properties, examples, and use cases.\n",
    "\n",
    "# 1. Series\n",
    "## Definition:\n",
    "A Series is a one-dimensional labeled array that can hold data of any type (e.g., integers, strings, floating-point numbers). It is mutable, meaning its contents can be changed after creation.\n",
    "\n",
    "# Syntax:\n",
    "\n",
    "- **import pandas as pd**\n",
    "\n",
    "# Creating a Series\n",
    "- **series = pd.Series(data, index, dtype, copy)**\n",
    "- **data:** Data for the Series (list, dictionary, array, scalar value).\n",
    "- **index:** Custom labels (optional).\n",
    "- **dtype:** Data type of the elements (optional).\n",
    "\n",
    "# Properties:\n",
    "- **Index:** Labels for the elements.\n",
    "- **Values:** Array of the data elements.\n",
    "- **Dtype:** Data type of the Series.\n",
    "- **Mutable:** Contents can be changed.\n",
    "\n",
    "# Example:"
   ]
  },
  {
   "cell_type": "code",
   "execution_count": null,
   "id": "a5b357fa-dd06-4f18-9b62-15b4e3cd2871",
   "metadata": {},
   "outputs": [],
   "source": [
    "# Creating a Series\n",
    "series = pd.Series([1, 2, 3, 4], index=[\"A\", \"B\", \"C\", \"D\"])\n",
    "\n",
    "# Modifying a value\n",
    "series[\"A\"] = 10\n",
    "print(series)"
   ]
  },
  {
   "cell_type": "markdown",
   "id": "97098005-aa98-46ef-b54a-1004aba560c7",
   "metadata": {},
   "source": [
    "# Where to Use:\n",
    "\n",
    "Ideal for handling one-dimensional data like time series or single-column data.\n",
    "\n",
    "# Example: Tracking sales numbers over time.\n",
    "# 2. DataFrame\n",
    "# Definition:\n",
    "\n",
    "A DataFrame is a two-dimensional, mutable, tabular data structure with labeled rows and columns. It is one of the most commonly used data structures in pandas.\n",
    "\n",
    "# Syntax:"
   ]
  },
  {
   "cell_type": "markdown",
   "id": "9f872216-160f-4e44-b77c-7993b4bf478e",
   "metadata": {},
   "source": [
    "\n",
    "- import pandas as pd\n",
    "\n",
    "# Creating a DataFrame\n",
    "- **df = pd.DataFrame(data, index, columns, dtype, copy)**\n",
    "- **data: Data (dictionary, list of lists, arrays, etc.).**\n",
    "- **index: Custom row labels (optional).**\n",
    "- **columns: Custom column labels (optional).**\n",
    "\n",
    "# Properties:\n",
    "\n",
    "- **Shape: Dimensions of the DataFrame (rows, columns).**\n",
    "- **Index:** Labels for rows.\n",
    "- **Columns:** Labels for columns.\n",
    "- **Mutable:** Both data and structure (rows/columns) can be modified.\n",
    "# Example:"
   ]
  },
  {
   "cell_type": "code",
   "execution_count": 101,
   "id": "0771f11b-fd93-42e0-9b15-d42a4b442484",
   "metadata": {},
   "outputs": [
    {
     "name": "stdout",
     "output_type": "stream",
     "text": [
      "    Name  Age\n",
      "0  Alice   26\n",
      "1    Bob   30\n"
     ]
    }
   ],
   "source": [
    "# Creating a DataFrame\n",
    "data = {\"Name\": [\"Alice\", \"Bob\"], \"Age\": [25, 30]}\n",
    "df = pd.DataFrame(data)\n",
    "\n",
    "# Modifying a value\n",
    "df.loc[0, \"Age\"] = 26\n",
    "print(df)\n"
   ]
  },
  {
   "cell_type": "markdown",
   "id": "19e394b9-5f5a-47d8-aae1-1847242238b4",
   "metadata": {},
   "source": [
    "# Where to Use:\n",
    "- Use for structured, tabular data analysis.\n",
    "\n",
    "## Example: Storing and analyzing customer data.\n",
    "\n",
    "# 3. Panel (Deprecated)\n",
    "\n",
    "**Definition:**\n",
    "A Panel was a three-dimensional data structure used in earlier versions of pandas for handling data with three axes. As of pandas 1.0.0, it is deprecated in favor of MultiIndex DataFrames.\n",
    "\n",
    "# Syntax (Deprecated):\n",
    "\n",
    "- **import pandas as pd**\n",
    "\n",
    "# Creating a Panel (deprecated)\n",
    "- **panel = pd.Panel(data)**\n",
    "# Properties:\n",
    "- **Axes:** Items (axis 0), Major_axis (axis 1), and Minor_axis (axis 2).\n",
    "- **Mutable:** Data could be modified.\n",
    "# Example:\n",
    "Panels are no longer recommended. Use MultiIndex DataFrames instead:"
   ]
  },
  {
   "cell_type": "code",
   "execution_count": 105,
   "id": "103bc8ba-4be3-4b35-93d7-9bc4305156c2",
   "metadata": {},
   "outputs": [
    {
     "name": "stdout",
     "output_type": "stream",
     "text": [
      "  Item1    Item2\n",
      "      A  B     A\n",
      "0     1  4     7\n",
      "1     2  5     8\n",
      "2     3  6     9\n"
     ]
    }
   ],
   "source": [
    "\n",
    "# MultiIndex DataFrame (alternative to Panel)\n",
    "data = {\n",
    "    (\"Item1\", \"A\"): [1, 2, 3],\n",
    "    (\"Item1\", \"B\"): [4, 5, 6],\n",
    "    (\"Item2\", \"A\"): [7, 8, 9],\n",
    "}\n",
    "df = pd.DataFrame(data)\n",
    "print(df)\n",
    "\n"
   ]
  },
  {
   "cell_type": "markdown",
   "id": "fa917a15-f6c4-4b57-9b6b-464a5a41baef",
   "metadata": {},
   "source": [
    "# Key Differences Between Series, DataFrame, and Panel\n",
    "<table><tr><TH>Feature\t<th>Series\t<th>DataFrame\t<th>Panel (Deprecated)</TH></tr>\n",
    "<tr><TH>Dimensions\t<th>One-dimensional\t<th>Two-dimensional\t<th>Three-dimensional\n",
    "<tr><TH>Labels\t<th>Row labels only\t<th>Row and column labels\t<th>Items, major, and minor axes\n",
    "<tr><TH>Mutability\t<th>Mutable\t<th>Mutable\t<th>Mutable\n",
    "<tr><TH>Use Case\t<th>Single-column data\t<th>Tabular data\t<th>Deprecated; use MultiIndex DF</th>table>\n",
    "\n",
    "    # Where to Use and Why\n",
    "\n",
    "# Series:\n",
    "- When working with one-dimensional data.\n",
    "- Lightweight and efficient for small tasks.\n",
    "\n",
    "# Example: Tracking monthly rainfall.\n",
    "\n",
    "# DataFrame:\n",
    "- For multi-dimensional, tabular data manipulation.\n",
    "- Supports complex operations like grouping, merging, and aggregating.\n",
    "\n",
    "# Example: Managing a dataset with multiple variables like sales, profit, and region.\n",
    "\n",
    "# Panel (Replaced):\n",
    "- Use MultiIndex DataFrames instead.\n",
    "# Example: Handling multi-dimensional data in financial or scientific domains.\n",
    "\n",
    "## Key Insights\n",
    "\n",
    "### Mutability:\n",
    "\n",
    "- Series and DataFrame are both mutable, making them flexible for real-world data analysis.\n",
    "- Changes to data, labels, or structure can be made without recreating the object.\n",
    "\n",
    "### Deprecation:\n",
    "\n",
    "- Panel is no longer in use. Migrating to MultiIndex DataFrames provides more functionality and ease of use.\n",
    "\n",
    "## Choosing the Structure:\n",
    "\n",
    "- For simple tasks, prefer Series.\n",
    "- For structured, relational data, use DataFrame.\n",
    "- For higher dimensions, use MultiIndex DataFrames.\n",
    "\n",
    "By understanding the differences and use cases, you can effectively utilize pandas structures for any data analysis task."
   ]
  },
  {
   "cell_type": "markdown",
   "id": "64ace5b0-df3a-426c-bd3e-113c467184be",
   "metadata": {},
   "source": [
    "# Q7: Create a DataFrame using multiple Series. Explain with an example."
   ]
  },
  {
   "cell_type": "code",
   "execution_count": null,
   "id": "cb71149b-24de-4ebd-a4f2-ad3fd2630330",
   "metadata": {},
   "outputs": [],
   "source": []
  },
  {
   "cell_type": "markdown",
   "id": "999f92ce-593d-4fdb-993c-f7c7602cd444",
   "metadata": {},
   "source": [
    "# Answer:\n",
    "We can create a DataFrame by combining multiple Series.\n",
    "\n",
    "# Steps:\n",
    "- Create individual Series for each column.\n",
    "- Combine them using the pd.DataFrame() function.\n",
    "  \n",
    "## Code Example:\n",
    "\n"
   ]
  },
  {
   "cell_type": "code",
   "execution_count": 95,
   "id": "e0b1ae23-1866-417b-9eee-760ba19fc915",
   "metadata": {},
   "outputs": [
    {
     "name": "stdout",
     "output_type": "stream",
     "text": [
      "     Name  Age  Gender\n",
      "0   Alice   25  Female\n",
      "1     Bob   30    Male\n",
      "2  Claire   27  Female\n"
     ]
    }
   ],
   "source": [
    "# Creating Series\n",
    "name = pd.Series([\"Alice\", \"Bob\", \"Claire\"])\n",
    "age = pd.Series([25, 30, 27])\n",
    "gender = pd.Series([\"Female\", \"Male\", \"Female\"])\n",
    "\n",
    "# Creating DataFrame\n",
    "df = pd.DataFrame({\"Name\": name, \"Age\": age, \"Gender\": gender})\n",
    "\n",
    "# Printing the DataFrame\n",
    "print(df)"
   ]
  },
  {
   "cell_type": "markdown",
   "id": "8008ebd0-0243-4b89-a7a7-9a610c9b80f4",
   "metadata": {},
   "source": [
    "# What is a DataFrame?\n",
    "A DataFrame in pandas is a two-dimensional, mutable data structure that consists of rows and columns. It is built using Series, which represent the individual columns.\n",
    "\n",
    "- Creating a DataFrame using multiple Series allows you to combine one-dimensional labeled data into a tabular format.\n",
    "\n",
    "# Syntax for Creating a DataFrame\n",
    "\n",
    "- import pandas as pd\n",
    "\n",
    "# Creating a DataFrame\n",
    "-df = pd.DataFrame({\n",
    "-    \"column_name1\": series1,\n",
    "-    \"column_name2\": series2,\n",
    "-    ...\n",
    "- })\n",
    "\n",
    "# Properties of a DataFrame\n",
    "\n",
    "- **Size:** Returns the total number of elements (rows × columns).\n",
    "- **Shape:** Provides dimensions as (rows, columns).\n",
    "- **Index:** Labels for rows.\n",
    "- **Columns:** Labels for columns.\n",
    "- **Dtype:** Data types of individual columns.\n",
    "- **Mutable:** Data and structure (rows/columns) can be modified.\n",
    "\n",
    "# Steps to Create a DataFrame Using Multiple Series\n",
    "\n",
    "- Import the pandas library.\n",
    "- Create individual Series for each column of the DataFrame.\n",
    "- Combine the Series into a DataFrame using the pd.DataFrame() method.\n",
    "- Optionally, provide custom row indices.\n",
    "\n",
    "# Example: Creating a DataFrame Using Multiple Series"
   ]
  },
  {
   "cell_type": "code",
   "execution_count": 109,
   "id": "6c421701-f1c7-4dae-87db-21c3aed68686",
   "metadata": {},
   "outputs": [
    {
     "name": "stdout",
     "output_type": "stream",
     "text": [
      "DataFrame:\n",
      "     Name  Age  Gender\n",
      "0   Alice   25  Female\n",
      "1     Bob   30    Male\n",
      "2  Claire   27  Female\n"
     ]
    }
   ],
   "source": [
    "\n",
    "import pandas as pd\n",
    "\n",
    "# Creating individual Series\n",
    "names = pd.Series([\"Alice\", \"Bob\", \"Claire\"])\n",
    "ages = pd.Series([25, 30, 27])\n",
    "genders = pd.Series([\"Female\", \"Male\", \"Female\"])\n",
    "\n",
    "# Combining Series into a DataFrame\n",
    "df = pd.DataFrame({\n",
    "    \"Name\": names,\n",
    "    \"Age\": ages,\n",
    "    \"Gender\": genders\n",
    "})\n",
    "\n",
    "# Displaying the DataFrame\n",
    "print(\"DataFrame:\")\n",
    "print(df)"
   ]
  },
  {
   "cell_type": "markdown",
   "id": "d7dcc349-0739-4710-b0c4-b5ad4605a10d",
   "metadata": {},
   "source": [
    "\n",
    "# Key Differences Between Series and DataFrame\n",
    "<table><tr><th>Feature\t<th>Series\t<th>DataFrame</th></tr>\n",
    "<tr><td>Dimensions\t<td>One-dimensional\t<td>Two-dimensional</tr>\n",
    "<tr><td>Data Type\t<td>Homogeneous\t<td>Heterogeneous</tr>\n",
    "<tr><td>Data Structure\t<td>Single labeled column\t<td>Tabular format</tr>\n",
    "<tr><td>Indexing\t<td>Single index\t<td>Row and column indices</tr></table>table>\n",
    "\n",
    "# Example Use Case\tSingle variable or feature\tMulti-variable datasets\n",
    "\n",
    "## Properties of the Created DataFrame\n",
    "\n",
    "## Columns:\n",
    "\n",
    "- **Name:** Contains string data (object dtype).\n",
    "- **Age:** Contains integer data (int64 dtype).\n",
    "- **Gender:** Contains string data (object dtype).\n",
    "\n",
    "# Index:\n",
    "\n",
    "Default index (0, 1, 2) is used.\n",
    "\n",
    "# Size:\n",
    "\n",
    "- Total elements: 3\n",
    " \n",
    "- rows × 3\n",
    " \n",
    "- columns = 9\n",
    "- 3 rows × 3 columns = 9.\n",
    "- Shape: (3 ,3)\n",
    "\n",
    "- (3,3) representing 3 rows and 3 columns.\n",
    "\n",
    "# When to Use Series vs DataFrame\n",
    "\n",
    "## Use Series When:\n",
    "\n",
    "You need to work with a single variable or attribute.\n",
    "\n",
    "# Example: Tracking monthly sales numbers.\n",
    "\n",
    "# Use DataFrame When:\n",
    "\n",
    "You need to work with multiple variables in a tabular structure.\n",
    "\n",
    "# Example: Managing customer data with attributes like Name, Age, and Gender.\n",
    "\n",
    "# Where and Why to Use a DataFrame\n",
    "\n",
    "## Use Cases:\n",
    "\n",
    "- **Data Cleaning:**\n",
    "\n",
    "Handle missing values or inconsistent data across columns.\n",
    "\n",
    "- **Data Analysis:**\n",
    "\n",
    "Perform operations like grouping, aggregations, and filtering.\n",
    "\n",
    "- **Data Visualization:**\n",
    "\n",
    "Serve as input for plotting libraries.\n",
    "\n",
    "# Why Use a DataFrame?\n",
    "\n",
    "- **Flexibility:** Supports multiple data types in columns.\n",
    "- **Scalability:** Works efficiently with large datasets.\n",
    "- **Intuitiveness:** Allows for complex operations with simple syntax.\n",
    "\n",
    "# Advanced Example with Custom Index\n",
    "\n"
   ]
  },
  {
   "cell_type": "code",
   "execution_count": 114,
   "id": "1e6a9690-c517-4ac9-98e8-43b865455578",
   "metadata": {},
   "outputs": [],
   "source": [
    "# Creating Series with custom indices\n",
    "names = pd.Series([\"Alice\", \"Bob\", \"Claire\"], index=[\"A\", \"B\", \"C\"])\n",
    "ages = pd.Series([25, 30, 27], index=[\"A\", \"B\", \"C\"])\n",
    "genders = pd.Series([\"Female\", \"Male\", \"Female\"], index=[\"A\", \"B\", \"C\"])\n",
    "\n"
   ]
  },
  {
   "cell_type": "code",
   "execution_count": 116,
   "id": "6aa96eb7-df85-432d-87c3-bca64d312391",
   "metadata": {},
   "outputs": [
    {
     "name": "stdout",
     "output_type": "stream",
     "text": [
      "DataFrame with Custom Index:\n",
      "     Name  Age  Gender\n",
      "A   Alice   25  Female\n",
      "B     Bob   30    Male\n",
      "C  Claire   27  Female\n"
     ]
    }
   ],
   "source": [
    "# Creating DataFrame\n",
    "df = pd.DataFrame({\n",
    "    \"Name\": names,\n",
    "    \"Age\": ages,\n",
    "    \"Gender\": genders\n",
    "})\n",
    "\n",
    "# Displaying the DataFrame\n",
    "print(\"DataFrame with Custom Index:\")\n",
    "print(df)\n",
    "\n"
   ]
  },
  {
   "cell_type": "markdown",
   "id": "0d7806d7-c422-4217-bb90-f75fdc565e57",
   "metadata": {},
   "source": [
    "# Key Insights\n",
    "\n",
    "- **Combination of Series:** DataFrames are formed by combining multiple Series, where each Series represents a column.\n",
    "- **Mutability:** Both the data and structure of a DataFrame can be modified.\n",
    "- **Preferred Data Structure:** Use a DataFrame for multi-dimensional data analysis and visualization.\n",
    "\n",
    "By understanding these principles, you can effectively use DataFrames for various data manipulation and analysis tasks in pandas."
   ]
  },
  {
   "cell_type": "code",
   "execution_count": null,
   "id": "d6a65cd4-f667-481a-aa9f-7bd373603b91",
   "metadata": {},
   "outputs": [],
   "source": []
  }
 ],
 "metadata": {
  "kernelspec": {
   "display_name": "Python [conda env:base] *",
   "language": "python",
   "name": "conda-base-py"
  },
  "language_info": {
   "codemirror_mode": {
    "name": "ipython",
    "version": 3
   },
   "file_extension": ".py",
   "mimetype": "text/x-python",
   "name": "python",
   "nbconvert_exporter": "python",
   "pygments_lexer": "ipython3",
   "version": "3.12.4"
  }
 },
 "nbformat": 4,
 "nbformat_minor": 5
}

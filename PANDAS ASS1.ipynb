{
 "cells": [
  {
   "cell_type": "markdown",
   "id": "43715af3-0f81-4890-902a-a28f1d446eb9",
   "metadata": {},
   "source": [
    "Q1. List any five functions of the pandas library with execution."
   ]
  },
  {
   "cell_type": "markdown",
   "id": "c3b89c0c-aadd-4fc7-b5b3-0db40686abbc",
   "metadata": {},
   "source": [
    "1. read_csv()\n",
    "- Purpose: Reads data from a CSV file into a DataFrame, enabling structured data manipulation.\n",
    "- \tWhy We Use: To import datasets stored in CSV format, which is a common format for data storage and sharing\n",
    "- Syntax: df=pd.read_csv('path/to/file.csv')\n",
    "- Exampleple:"
   ]
  },
  {
   "cell_type": "code",
   "execution_count": 6,
   "id": "01ce3af3-fad1-4132-9a86-1501df2c9889",
   "metadata": {},
   "outputs": [
    {
     "name": "stdout",
     "output_type": "stream",
     "text": [
      "    A  B   C                 Text                  Email  Values        Date  \\\n",
      "0  10  5   7          Hello World   john.doe@example.com     100  2023-01-01   \n",
      "1   2  9   4    Pandas is amazing    jane.smith@test.com     200  2023-01-02   \n",
      "2  15  3  10  Python is versatile  alex.johnson@mail.com     300  2023-01-10   \n",
      "3   8  6  12   Data Science rocks   emily.brown@data.org     400  2023-01-15   \n",
      "4   7  1   8      Learning Pandas      mark.taylor@ml.ai     500  2023-01-20   \n",
      "\n",
      "   Sales  \n",
      "0    100  \n",
      "1    150  \n",
      "2    200  \n",
      "3    250  \n",
      "4    300  \n"
     ]
    }
   ],
   "source": [
    "import pandas as pd\n",
    "df = pd.read_csv('C:/Users/ac240/BA 2 2025/Dataset/sample_data.csv')\n",
    "print(df)"
   ]
  },
  {
   "cell_type": "markdown",
   "id": "4eedc23c-1b6c-42ec-8ebd-049a2de225d3",
   "metadata": {},
   "source": [
    "- •\tExplanation:\r",
    "- \n",
    "o\tCSV files are lightweight and easy to work with in Python\n",
    "- \r\n",
    "o\tUsing read_csv, you can load large datasets efficiently into Pandas.\r\n"
   ]
  },
  {
   "cell_type": "markdown",
   "id": "473a26ae-4e64-4fdb-b824-8df125689932",
   "metadata": {},
   "source": [
    "2. head()\n",
    "-•\tPurpose: Displays the first n rows of a DataFrame for previewing the data.(default: 5 rows)\r",
    "-\n",
    "•\tWhy We Use: To get a quick overview of the structure and content of the dataset.-\r\n",
    "•\tSyntit\r\n",
    "df.d()hle:\r\n",
    "\n",
    "Example:"
   ]
  },
  {
   "cell_type": "code",
   "execution_count": 2,
   "id": "11e12886-695c-43a4-95bb-9b0665b61e11",
   "metadata": {},
   "outputs": [
    {
     "name": "stdout",
     "output_type": "stream",
     "text": [
      "    A  B   C                 Text                  Email  Values        Date  \\\n",
      "0  10  5   7          Hello World   john.doe@example.com     100  2023-01-01   \n",
      "1   2  9   4    Pandas is amazing    jane.smith@test.com     200  2023-01-02   \n",
      "2  15  3  10  Python is versatile  alex.johnson@mail.com     300  2023-01-10   \n",
      "\n",
      "   Sales  \n",
      "0    100  \n",
      "1    150  \n",
      "2    200  \n"
     ]
    }
   ],
   "source": [
    "print(df.head(3))"
   ]
  },
  {
   "cell_type": "markdown",
   "id": "6ebbf49e-8aa0-4a92-b035-9af088bb2bfe",
   "metadata": {},
   "source": [
    "- •\tExplanation:\r",
    "- \n",
    "o\tUseful during the data exploration phase.- \r\n",
    "o\tHelps identify if the dataset is loaded correctly.\r\n"
   ]
  },
  {
   "cell_type": "markdown",
   "id": "67039889-7ada-462e-bfae-6185bb8ecf67",
   "metadata": {},
   "source": [
    "3. describe()\n",
    "- •\tPurpose: Generates a statistical summary of numerical columns.\n",
    "- - \n",
    "•\tWhy We Use: To understand the distribution of data, including mean, standard deviation, min, and max values\n",
    "  - Syntax:df.describe()\n",
    ")\r\n",
    "\n",
    "Example:"
   ]
  },
  {
   "cell_type": "code",
   "execution_count": 3,
   "id": "f6433e50-caca-47a5-9da7-358681f6f2ca",
   "metadata": {},
   "outputs": [
    {
     "name": "stdout",
     "output_type": "stream",
     "text": [
      "               A        B         C      Values       Sales\n",
      "count   5.000000  5.00000   5.00000    5.000000    5.000000\n",
      "mean    8.400000  4.80000   8.20000  300.000000  200.000000\n",
      "std     4.722288  3.03315   3.03315  158.113883   79.056942\n",
      "min     2.000000  1.00000   4.00000  100.000000  100.000000\n",
      "25%     7.000000  3.00000   7.00000  200.000000  150.000000\n",
      "50%     8.000000  5.00000   8.00000  300.000000  200.000000\n",
      "75%    10.000000  6.00000  10.00000  400.000000  250.000000\n",
      "max    15.000000  9.00000  12.00000  500.000000  300.000000\n"
     ]
    }
   ],
   "source": [
    "print(df.describe())"
   ]
  },
  {
   "cell_type": "markdown",
   "id": "524de221-3510-4b99-8b7c-3c40b206eeba",
   "metadata": {},
   "source": [
    "- •\tExplanation:\r",
    "- \n",
    "o\tProvides insights into data variability and central tendencies.- \r\n",
    "o\tParticularly useful for initial data analysis.\r\n"
   ]
  },
  {
   "cell_type": "markdown",
   "id": "a8113507-b34d-4b01-a185-85bf47deb20e",
   "metadata": {},
   "source": [
    "4. merge()\n",
    "-•\tPurpose: Merges two DataFrames based on a common key.\r",
    "-\n",
    "•\tWhy We Use: To combine datasets with related information.-\r\n",
    "•\tSyntit\r\n",
    "pd.merge(df1, df2, oney')le:\r\n",
    "\n",
    "Example:"
   ]
  },
  {
   "cell_type": "code",
   "execution_count": 4,
   "id": "51e39f3e-98bc-4f5c-936c-38abd7987497",
   "metadata": {},
   "outputs": [
    {
     "name": "stdout",
     "output_type": "stream",
     "text": [
      "   ID   Name  Score\n",
      "0   1  Alice     90\n",
      "1   2    Bob     80\n"
     ]
    }
   ],
   "source": [
    "df1 = pd.DataFrame({'ID': [1, 2], 'Name': ['Alice', 'Bob']})\n",
    "df2 = pd.DataFrame({'ID': [1, 2], 'Score': [90, 80]})\n",
    "result = pd.merge(df1, df2, on='ID')\n",
    "print(result)"
   ]
  },
  {
   "cell_type": "markdown",
   "id": "551218ed-f527-4100-9349-a5a7b601c86d",
   "metadata": {},
   "source": [
    "•\tExplanation:\r",
    "-\n",
    "o\tCombines datasets for integrated analysis.-\r\n",
    "o\tEnsures you can use related data together.\r\n"
   ]
  },
  {
   "cell_type": "markdown",
   "id": "13802a73-3573-4a39-84ee-b9c15932d05a",
   "metadata": {},
   "source": [
    "5. pivot_table()\n",
    "-•\tPurpose: Summarizes data by grouping and aggregating values.Summarizes data using an aggregation function.\r",
    "-\n",
    "•\tWhy We Use: To analyze data trends across categories.-\r\n",
    "•\tSyntit\r\n",
    "df.pivot_table(index='column1', values='column2', aggfunc='mean')\r\n",
    "\n",
    "Example:"
   ]
  },
  {
   "cell_type": "code",
   "execution_count": 5,
   "id": "0055a82f-7854-4fc4-ab97-af0b10855afa",
   "metadata": {},
   "outputs": [
    {
     "name": "stdout",
     "output_type": "stream",
     "text": [
      "    Sales\n",
      "A        \n",
      "2     150\n",
      "7     300\n",
      "8     250\n",
      "10    100\n",
      "15    200\n"
     ]
    }
   ],
   "source": [
    "pivot = df.pivot_table(index='A', values='Sales', aggfunc='sum')\n",
    "print(pivot)\n"
   ]
  },
  {
   "cell_type": "markdown",
   "id": "c7b597ee-c5fa-4b10-ba3c-0d7a2d941cce",
   "metadata": {},
   "source": [
    "•\tExplanation:\r",
    "- \n",
    "o\tSimplifies data analysis by focusing on summaries.\r\n"
   ]
  },
  {
   "cell_type": "markdown",
   "id": "16a5f6a0-ebd8-4ed9-993a-aa6284e2b4a6",
   "metadata": {},
   "source": [
    "Q2. Given a Pandas DataFrame df with columns 'A', 'B', and 'C', write a Python function to re-index the\r\n",
    "DataFrame with a new index that starts from 1 and increments by 2 for each row."
   ]
  },
  {
   "cell_type": "code",
   "execution_count": null,
   "id": "8f611ea3-a9b4-41cb-9160-55dcfb6fb8af",
   "metadata": {},
   "outputs": [],
   "source": [
    "def reindex_dataframe(df):\n",
    "    df.index = range(1, 2 * len(df) + 1, 2)\n",
    "    return df\n",
    "\n",
    "data = {'A': [10, 20], 'B': [30, 40]}\n",
    "df = pd.DataFrame(data)\n",
    "print(reindex_dataframe(df))\n"
   ]
  },
  {
   "cell_type": "markdown",
   "id": "bac548a5-63c5-4d66-bde5-6d030650e46f",
   "metadata": {},
   "source": [
    "Q3. You have a Pandas DataFrame df with a column named 'Values'. Write a Python function that \n",
    "iterates over the DataFrame and calculates the sum of the first three values in the 'Values' column. Th \r\n",
    "function should print the sum to the console.\r\n",
    "For example, if the 'Values' column of df contains the values [10, 20, 30, 40, 50], your function sho ld\r\n",
    "calculate and print the sum of the first three values, which is 60."
   ]
  },
  {
   "cell_type": "code",
   "execution_count": 7,
   "id": "4cdf28cf-ab76-4a01-91fd-edc0c98bc7d2",
   "metadata": {},
   "outputs": [
    {
     "name": "stdout",
     "output_type": "stream",
     "text": [
      "Sum of the first three values: 60\n"
     ]
    }
   ],
   "source": [
    "def sum_first_three(df):\n",
    "    result = df['Values'][:3].sum()\n",
    "    print(f\"Sum of the first three values: {result}\")\n",
    "\n",
    "df = pd.DataFrame({'Values': [10, 20, 30, 40, 50]})\n",
    "sum_first_three(df)\n"
   ]
  },
  {
   "cell_type": "markdown",
   "id": "de52ba92-5072-497e-a915-07033e890f91",
   "metadata": {},
   "source": [
    "Q4. Given a Pandas DataFrame df with a column 'Text', write a Python function to create a new column \n",
    "'Word_Count' that contains the number of words in each row of the 'Text' column."
   ]
  },
  {
   "cell_type": "code",
   "execution_count": 8,
   "id": "5c5a1e20-595d-4f50-9df4-85e3dbadd2d4",
   "metadata": {},
   "outputs": [
    {
     "name": "stdout",
     "output_type": "stream",
     "text": [
      "                 Text  Word_Count\n",
      "0         Hello world           2\n",
      "1     Pandas is great           3\n",
      "2  Python programming           2\n"
     ]
    }
   ],
   "source": [
    "def add_word_count(df):\n",
    "    df['Word_Count'] = df['Text'].apply(lambda x: len(x.split()))\n",
    "    return df\n",
    "\n",
    "df = pd.DataFrame({'Text': ['Hello world', 'Pandas is great', 'Python programming']})\n",
    "print(add_word_count(df))\n"
   ]
  },
  {
   "cell_type": "markdown",
   "id": "74787b76-0a99-4788-ae2b-d1b43bb7af81",
   "metadata": {},
   "source": [
    "Q5. How are DataFrame.size() and DataFrame.shape() different?"
   ]
  },
  {
   "cell_type": "code",
   "execution_count": 9,
   "id": "a9f128f8-f8ed-48bf-b9d5-a7aa0b11a40e",
   "metadata": {},
   "outputs": [
    {
     "name": "stdout",
     "output_type": "stream",
     "text": [
      "Size: 6, Shape: (3, 2)\n"
     ]
    }
   ],
   "source": [
    "print(f\"Size: {df.size}, Shape: {df.shape}\")\n"
   ]
  },
  {
   "cell_type": "markdown",
   "id": "3a200652-7716-4036-a252-795b77ed9f13",
   "metadata": {},
   "source": [
    "Q6. Which function of pandas do we use to read an excel file?"
   ]
  },
  {
   "cell_type": "code",
   "execution_count": 10,
   "id": "41ae80df-9127-4fbb-bde8-ec1675a39e81",
   "metadata": {},
   "outputs": [
    {
     "name": "stdout",
     "output_type": "stream",
     "text": [
      "    A  B   C                 Text                  Email  Values       Date  \\\n",
      "0  10  5   7          Hello World   john.doe@example.com     100 2023-01-01   \n",
      "1   2  9   4    Pandas is amazing    jane.smith@test.com     200 2023-01-02   \n",
      "2  15  3  10  Python is versatile  alex.johnson@mail.com     300 2023-01-10   \n",
      "3   8  6  12   Data Science rocks   emily.brown@data.org     400 2023-01-15   \n",
      "4   7  1   8      Learning Pandas      mark.taylor@ml.ai     500 2023-01-20   \n",
      "\n",
      "   Sales  \n",
      "0    100  \n",
      "1    150  \n",
      "2    200  \n",
      "3    250  \n",
      "4    300  \n"
     ]
    }
   ],
   "source": [
    "df = pd.read_excel('C:/Users/ac240/BA 2 2025/Dataset/sample_data.xlsx')\n",
    "print(df.head())\n"
   ]
  },
  {
   "cell_type": "markdown",
   "id": "8bd5b0cf-5480-444c-9dbd-11d0a32beadf",
   "metadata": {},
   "source": [
    "Q7. You have a Pandas DataFrame df that contains a column named 'Email' that contains email \n",
    "addresses in the format 'username@domain.com'. Write a Python function that creates a new colum \r\n",
    "'Username' in df that contains only the username part of each email address.\r\n",
    "The username is the part of the email address that appears before the '@' symbol. For example, if  he\r\n",
    "email address is 'john.doe@example.com', the 'Username' column should contain 'john.doe'.  our\r\n",
    "function should extract the username from each email address and store it in the new 'User ame'\r\n",
    "column."
   ]
  },
  {
   "cell_type": "code",
   "execution_count": 11,
   "id": "cbdfd740-e79c-45ed-8fa0-89eaee86e059",
   "metadata": {},
   "outputs": [
    {
     "name": "stdout",
     "output_type": "stream",
     "text": [
      "                  Email    Username\n",
      "0  john.doe@example.com    john.doe\n",
      "1   jane.smith@test.com  jane.smith\n"
     ]
    }
   ],
   "source": [
    "def extract_username(df):\n",
    "    df['Username'] = df['Email'].apply(lambda x: x.split('@')[0])\n",
    "    return df\n",
    "\n",
    "df = pd.DataFrame({'Email': ['john.doe@example.com', 'jane.smith@test.com']})\n",
    "print(extract_username(df))\n"
   ]
  },
  {
   "cell_type": "markdown",
   "id": "f664d966-c5ad-4b8d-a198-a59d282ed6ca",
   "metadata": {},
   "source": [
    "Q8. You have a Pandas DataFrame df with columns 'A', 'B', and 'C'. Write a Python function that selects \n",
    "all rows where the value in column 'A' is greater than 5 and the value in column 'B' is less than 10. The\r\n",
    "function should return a new DataFrame that contains only the selected rows.\r\n",
    "For example, if df contains the following values:\r\n",
    "A B C\r\n",
    "0 3 5 1\r\n",
    "1 8 2 7\r\n",
    "2 6 9 4\r\n",
    "3 2 3 5\r\n",
    "4 9 1 2 Your function should select the followi\n",
    "ng rows: A B C\r\n",
    "1 8 2 7\r\n",
    "4 9 1 2\r\n",
    "The function should return a new DataFrame that contains only the selected rows."
   ]
  },
  {
   "cell_type": "code",
   "execution_count": 12,
   "id": "120f454d-4f58-459b-b8b1-391df97254ac",
   "metadata": {},
   "outputs": [
    {
     "name": "stdout",
     "output_type": "stream",
     "text": [
      "   A  B  C\n",
      "1  8  2  7\n",
      "2  6  9  4\n",
      "4  9  1  2\n"
     ]
    }
   ],
   "source": [
    "def filter_rows(df):\n",
    "    return df[(df['A'] > 5) & (df['B'] < 10)]\n",
    "\n",
    "data = {'A': [3, 8, 6, 2, 9], 'B': [5, 2, 9, 3, 1], 'C': [1, 7, 4, 5, 2]}\n",
    "df = pd.DataFrame(data)\n",
    "print(filter_rows(df))\n"
   ]
  },
  {
   "cell_type": "markdown",
   "id": "b08b568a-00c9-4a1e-b579-b5d0456a6fab",
   "metadata": {},
   "source": [
    "Q9. Given a Pandas DataFrame df with a column 'Values', write a Python function to calculate the mean, \n",
    "median, and standard deviation of the values in the 'Values' column."
   ]
  },
  {
   "cell_type": "code",
   "execution_count": 13,
   "id": "432b2ed8-c604-4ad8-b82b-0afb2fcd3081",
   "metadata": {},
   "outputs": [
    {
     "name": "stdout",
     "output_type": "stream",
     "text": [
      "{'mean': 30.0, 'median': 30.0, 'std': 15.811388300841896}\n"
     ]
    }
   ],
   "source": [
    "def calculate_statistics(df):\n",
    "    return {\n",
    "        'mean': df['Values'].mean(),\n",
    "        'median': df['Values'].median(),\n",
    "        'std': df['Values'].std()\n",
    "    }\n",
    "\n",
    "df = pd.DataFrame({'Values': [10, 20, 30, 40, 50]})\n",
    "print(calculate_statistics(df))\n"
   ]
  },
  {
   "cell_type": "markdown",
   "id": "48a3a0ab-66c1-4c4d-8ac8-2771726872f7",
   "metadata": {},
   "source": [
    "Q10. Given a Pandas DataFrame df with a column 'Sales' and a column 'Date', write a Python function to \n",
    "create a new column 'MovingAverage' that contains the moving average of the sales for the past 7 day \r\n",
    "for each row in the DataFrame. The moving average should be calculated using a window of size 7 a d\r\n",
    "should include the current day."
   ]
  },
  {
   "cell_type": "code",
   "execution_count": 14,
   "id": "1d8f0b82-0b36-4e3a-a883-0ce5fe945fbb",
   "metadata": {},
   "outputs": [
    {
     "name": "stdout",
     "output_type": "stream",
     "text": [
      "   Sales  MovingAverage\n",
      "0    100            NaN\n",
      "1    200            NaN\n",
      "2    300            NaN\n",
      "3    400            NaN\n",
      "4    500            NaN\n",
      "5    600            NaN\n",
      "6    700          400.0\n"
     ]
    }
   ],
   "source": [
    "def add_moving_average(df):\n",
    "    df['MovingAverage'] = df['Sales'].rolling(window=7).mean()\n",
    "    return df\n",
    "\n",
    "df = pd.DataFrame({'Sales': [100, 200, 300, 400, 500, 600, 700]})\n",
    "print(add_moving_average(df))\n"
   ]
  },
  {
   "cell_type": "markdown",
   "id": "197381c0-ca1a-40d8-8ac8-78a9a0680a3a",
   "metadata": {},
   "source": [
    "Q11. You have a Pandas DataFrame df with a column 'Date'. Write a Python function that creates a new \n",
    "column 'Weekday' in the DataFrame. The 'Weekday' column should contain the weekday name (e.g \r\n",
    "Monday, Tuesday) corresponding to each date in the 'Date' column.\r\n",
    "For example, if df contains the following values:\r\n",
    "Date\r\n",
    "0 2023-01-01\r\n",
    "1 2023-01-02\r\n",
    "2 2023-01-03\r\n",
    "3 2023-01-04\r\n",
    "4 2023-01-05\r\n",
    "Your function should create the following DataFrame:\r\n",
    "\r\n",
    "Date Weekday\r\n",
    "0 2023-01-01 Sunday\r\n",
    "1 2023-01-02 Monday\r\n",
    "2 2023-01-03 Tuesday\r\n",
    "3 2023-01-04 Wednesday\r\n",
    "4 2023-01-05 Thursday\r\n",
    "The function should return the modified DataFrame."
   ]
  },
  {
   "cell_type": "code",
   "execution_count": 15,
   "id": "9e607f7f-c743-4db3-8998-4cd67a7ba6d2",
   "metadata": {},
   "outputs": [
    {
     "name": "stdout",
     "output_type": "stream",
     "text": [
      "         Date  Weekday\n",
      "0  2023-01-01   Sunday\n",
      "1  2023-01-02   Monday\n",
      "2  2023-01-03  Tuesday\n"
     ]
    }
   ],
   "source": [
    "def add_weekday(df):\n",
    "    df['Weekday'] = pd.to_datetime(df['Date']).dt.day_name()\n",
    "    return df\n",
    "\n",
    "df = pd.DataFrame({'Date': ['2023-01-01', '2023-01-02', '2023-01-03']})\n",
    "print(add_weekday(df))\n"
   ]
  },
  {
   "cell_type": "markdown",
   "id": "acef3f7b-13fe-43e0-ae07-aed9784f2dd0",
   "metadata": {},
   "source": [
    "Q12. Given a Pandas DataFrame df with a column 'Date' that contains timestamps, write a Python \n",
    "function to select all rows where the date is between '2023-01-01' and '2023-01-31'."
   ]
  },
  {
   "cell_type": "code",
   "execution_count": 16,
   "id": "91c2e6d2-80d2-4b64-8af4-14f65d6302c4",
   "metadata": {},
   "outputs": [
    {
     "name": "stdout",
     "output_type": "stream",
     "text": [
      "        Date\n",
      "0 2023-01-01\n",
      "1 2023-01-15\n"
     ]
    }
   ],
   "source": [
    "def filter_by_date(df):\n",
    "    return df[(df['Date'] >= '2023-01-01') & (df['Date'] <= '2023-01-31')]\n",
    "\n",
    "df = pd.DataFrame({'Date': ['2023-01-01', '2023-01-15', '2023-02-01']})\n",
    "df['Date'] = pd.to_datetime(df['Date'])\n",
    "print(filter_by_date(df))\n"
   ]
  },
  {
   "cell_type": "markdown",
   "id": "822329fc-77ff-4aa4-be77-34ce8a8bca90",
   "metadata": {},
   "source": [
    "Q13. To use the basic functions of pandas, what is the first and foremost necessary library that needs to \n",
    "be imported?"
   ]
  },
  {
   "cell_type": "markdown",
   "id": "87975e15-0880-453f-8d85-cd608e7dbb33",
   "metadata": {},
   "source": [
    "Library: import pandas as pd\n",
    "Explanation: Pandas is essential for data manipulation and analysis in Python."
   ]
  }
 ],
 "metadata": {
  "kernelspec": {
   "display_name": "Python 3 (ipykernel)",
   "language": "python",
   "name": "python3"
  },
  "language_info": {
   "codemirror_mode": {
    "name": "ipython",
    "version": 3
   },
   "file_extension": ".py",
   "mimetype": "text/x-python",
   "name": "python",
   "nbconvert_exporter": "python",
   "pygments_lexer": "ipython3",
   "version": "3.11.5"
  }
 },
 "nbformat": 4,
 "nbformat_minor": 5
}

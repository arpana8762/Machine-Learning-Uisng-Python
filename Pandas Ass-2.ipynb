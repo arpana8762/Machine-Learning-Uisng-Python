{
 "cells": [
  {
   "cell_type": "markdown",
   "id": "8446de94-57e1-4501-8546-2822665a641a",
   "metadata": {},
   "source": [
    "Consider following code to answer further questions:\r\n",
    "import pandas as pd\r\n",
    "course_name = [‘Data Science’, ‘Machine Learning’, ‘Big Data’, ‘Data Engineer’]\r\n",
    "duration = [2,3,6,4]\r\n",
    "df = pd.DataFrame(data = {‘course_name’ : course_name, ‘duration’ : duration})\r\n",
    "Q1. Write a code to print the data present in the second row of the dataframe, df."
   ]
  },
  {
   "cell_type": "code",
   "execution_count": 1,
   "id": "61a6ca44-c2a4-4773-80dc-9aa118f64c44",
   "metadata": {},
   "outputs": [
    {
     "name": "stdout",
     "output_type": "stream",
     "text": [
      "course_name    Machine Learning\n",
      "duration                      3\n",
      "Name: 1, dtype: object\n"
     ]
    }
   ],
   "source": [
    "# Code\n",
    "import pandas as pd\n",
    "\n",
    "course_name = ['Data Science', 'Machine Learning', 'Big Data', 'Data Engineer']\n",
    "duration = [2, 3, 6, 4]\n",
    "\n",
    "df = pd.DataFrame({'course_name': course_name, 'duration': duration})\n",
    "\n",
    "# Print the second row (index 1)\n",
    "print(df.iloc[1])\n"
   ]
  },
  {
   "cell_type": "markdown",
   "id": "27d82ef0-c57d-45b1-9150-6a0ca3c0fd25",
   "metadata": {},
   "source": [
    "Explanation: The iloc method is used for index-based row access. Index 1 corresponds to the second row."
   ]
  },
  {
   "cell_type": "markdown",
   "id": "46d7dd22-0623-43d0-8886-5f65d94816ac",
   "metadata": {},
   "source": [
    "Q2. What is the difference between the functions loc and iloc in pandas.DataFrame?"
   ]
  },
  {
   "cell_type": "markdown",
   "id": "c040f924-6a79-49d1-9347-463b5e2b9e91",
   "metadata": {},
   "source": [
    "loc: Accesses rows and columns by labels"
   ]
  },
  {
   "cell_type": "code",
   "execution_count": 2,
   "id": "2c84e386-d586-47d6-8b54-2bc0ce6b76bd",
   "metadata": {},
   "outputs": [
    {
     "data": {
      "text/plain": [
       "course_name    Machine Learning\n",
       "duration                      3\n",
       "Name: 1, dtype: object"
      ]
     },
     "execution_count": 2,
     "metadata": {},
     "output_type": "execute_result"
    }
   ],
   "source": [
    "df.loc[1]  # Access row with label 1\n"
   ]
  },
  {
   "cell_type": "markdown",
   "id": "2c7cf30a-971f-4a01-9bbd-908fb81226cf",
   "metadata": {},
   "source": [
    "iloc: Accesses rows and columns by integer position."
   ]
  },
  {
   "cell_type": "code",
   "execution_count": 3,
   "id": "be063048-6cb7-4eec-a83a-614e8b5e7fcf",
   "metadata": {},
   "outputs": [
    {
     "data": {
      "text/plain": [
       "course_name    Machine Learning\n",
       "duration                      3\n",
       "Name: 1, dtype: object"
      ]
     },
     "execution_count": 3,
     "metadata": {},
     "output_type": "execute_result"
    }
   ],
   "source": [
    "df.iloc[1]  # Access the second row (position 1)\n"
   ]
  },
  {
   "cell_type": "markdown",
   "id": "43ca5bbe-af27-484d-a643-abb206be1dd4",
   "metadata": {},
   "source": [
    "Q3. Reindex the given dataframe using a variable, reindex = [3,0,1,2] and store it in the variable, new_df \n",
    "then find the output for both new_df.loc[2] and new_df.iloc[2]\n",
    "Did you observe any difference in both the outputs? If so then explain it.\r\n",
    "Consider the below code to answer further questions:\r\n",
    "import pandas as pd\r\n",
    "import numpy as np\r\n",
    "columns = ['column_1', 'column_2', 'column_3', 'column_4', 'column_5', 'column_6']\r\n",
    "indices = [1,2,3,4,5,6]\r\n",
    "#Creating a dataframe:\r\n",
    "df1 = pd.DataFrame(np.random.rand(6,6), columns = columns, index = indices)."
   ]
  },
  {
   "cell_type": "code",
   "execution_count": 4,
   "id": "b4c5ab32-31f3-49b2-b0cb-c15ae95f64d9",
   "metadata": {},
   "outputs": [],
   "source": [
    "import pandas as pd\n",
    "import numpy as np\n",
    "columns = ['column_1', 'column_2', 'column_3', 'column_4', 'column_5', 'column_6']\n",
    "indices = [1,2,3,4,5,6]\n",
    "#Creating a dataframe:\n",
    "df1 = pd.DataFrame(np.random.rand(6,6), columns = columns, index = indices)"
   ]
  },
  {
   "cell_type": "code",
   "execution_count": 5,
   "id": "cd3c2ce3-b42d-4f6d-80d3-9e2f63895e5e",
   "metadata": {},
   "outputs": [
    {
     "name": "stdout",
     "output_type": "stream",
     "text": [
      "course_name    Big Data\n",
      "duration              6\n",
      "Name: 2, dtype: object\n",
      "course_name    Machine Learning\n",
      "duration                      3\n",
      "Name: 1, dtype: object\n"
     ]
    }
   ],
   "source": [
    "reindex = [3, 0, 1, 2]\n",
    "new_df = df.reindex(reindex)\n",
    "\n",
    "# Outputs\n",
    "print(new_df.loc[2])    # Row with label 2\n",
    "print(new_df.iloc[2])   # Third row in the reindexed DataFrame\n"
   ]
  },
  {
   "cell_type": "markdown",
   "id": "c5aa556c-b390-4217-8395-4011e2943386",
   "metadata": {},
   "source": [
    "Explanation: loc fetches rows by label, while iloc fetches rows by position. After reindexing, their outputs may differ."
   ]
  },
  {
   "cell_type": "markdown",
   "id": "773e4783-4998-4b9b-95b5-9ca1d117cbf4",
   "metadata": {},
   "source": [
    "Q4. Write a code to find the following statistical measurements for the above dataframe df1:\r\n",
    "(i) mean of each and every column present in the dataframe.\r\n",
    "(ii) standard deviation of column, ‘column_2’"
   ]
  },
  {
   "cell_type": "code",
   "execution_count": 6,
   "id": "7ecd0262-adb9-46e4-aa3e-c9119cfa5512",
   "metadata": {},
   "outputs": [
    {
     "name": "stdout",
     "output_type": "stream",
     "text": [
      "column_1    0.501050\n",
      "column_2    0.566718\n",
      "column_3    0.642628\n",
      "column_4    0.421202\n",
      "column_5    0.474602\n",
      "column_6    0.410366\n",
      "dtype: float64\n",
      "0.419073838525131\n"
     ]
    }
   ],
   "source": [
    "import numpy as np\n",
    "\n",
    "columns = ['column_1', 'column_2', 'column_3', 'column_4', 'column_5', 'column_6']\n",
    "indices = [1, 2, 3, 4, 5, 6]\n",
    "df1 = pd.DataFrame(np.random.rand(6, 6), columns=columns, index=indices)\n",
    "\n",
    "# (i) Mean of each column\n",
    "print(df1.mean())\n",
    "\n",
    "# (ii) Standard deviation of 'column_2'\n",
    "print(df1['column_2'].std())\n"
   ]
  },
  {
   "cell_type": "markdown",
   "id": "5d370c24-d308-47f7-a35e-4d60a5946b07",
   "metadata": {},
   "source": [
    "Q5. Replace the data present in the second row of column, ‘column_2’ by a string variable then find the \n",
    "mean of column, column_2.\r\n",
    "If you are getting errors in executing it then explain why.\r\n",
    "[Hint: To replace the data use df1.loc[] and equate this to string data of your choice.]"
   ]
  },
  {
   "cell_type": "code",
   "execution_count": 7,
   "id": "838e50db-484e-49ff-baf5-f92808a61f7b",
   "metadata": {},
   "outputs": [
    {
     "name": "stderr",
     "output_type": "stream",
     "text": [
      "C:\\Users\\ac240\\AppData\\Local\\Temp\\ipykernel_20736\\2314206311.py:2: FutureWarning: Setting an item of incompatible dtype is deprecated and will raise an error in a future version of pandas. Value 'string' has dtype incompatible with float64, please explicitly cast to a compatible dtype first.\n",
      "  df1.loc[2, 'column_2'] = 'string'\n"
     ]
    },
    {
     "ename": "TypeError",
     "evalue": "unsupported operand type(s) for +: 'float' and 'str'",
     "output_type": "error",
     "traceback": [
      "\u001b[1;31m---------------------------------------------------------------------------\u001b[0m",
      "\u001b[1;31mTypeError\u001b[0m                                 Traceback (most recent call last)",
      "Cell \u001b[1;32mIn[7], line 5\u001b[0m\n\u001b[0;32m      2\u001b[0m df1\u001b[38;5;241m.\u001b[39mloc[\u001b[38;5;241m2\u001b[39m, \u001b[38;5;124m'\u001b[39m\u001b[38;5;124mcolumn_2\u001b[39m\u001b[38;5;124m'\u001b[39m] \u001b[38;5;241m=\u001b[39m \u001b[38;5;124m'\u001b[39m\u001b[38;5;124mstring\u001b[39m\u001b[38;5;124m'\u001b[39m\n\u001b[0;32m      4\u001b[0m \u001b[38;5;66;03m# Calculating mean\u001b[39;00m\n\u001b[1;32m----> 5\u001b[0m \u001b[38;5;28mprint\u001b[39m(df1[\u001b[38;5;124m'\u001b[39m\u001b[38;5;124mcolumn_2\u001b[39m\u001b[38;5;124m'\u001b[39m]\u001b[38;5;241m.\u001b[39mmean())\n",
      "File \u001b[1;32m~\\anaconda3\\Lib\\site-packages\\pandas\\core\\series.py:6549\u001b[0m, in \u001b[0;36mSeries.mean\u001b[1;34m(self, axis, skipna, numeric_only, **kwargs)\u001b[0m\n\u001b[0;32m   6541\u001b[0m \u001b[38;5;129m@doc\u001b[39m(make_doc(\u001b[38;5;124m\"\u001b[39m\u001b[38;5;124mmean\u001b[39m\u001b[38;5;124m\"\u001b[39m, ndim\u001b[38;5;241m=\u001b[39m\u001b[38;5;241m1\u001b[39m))\n\u001b[0;32m   6542\u001b[0m \u001b[38;5;28;01mdef\u001b[39;00m \u001b[38;5;21mmean\u001b[39m(\n\u001b[0;32m   6543\u001b[0m     \u001b[38;5;28mself\u001b[39m,\n\u001b[1;32m   (...)\u001b[0m\n\u001b[0;32m   6547\u001b[0m     \u001b[38;5;241m*\u001b[39m\u001b[38;5;241m*\u001b[39mkwargs,\n\u001b[0;32m   6548\u001b[0m ):\n\u001b[1;32m-> 6549\u001b[0m     \u001b[38;5;28;01mreturn\u001b[39;00m NDFrame\u001b[38;5;241m.\u001b[39mmean(\u001b[38;5;28mself\u001b[39m, axis, skipna, numeric_only, \u001b[38;5;241m*\u001b[39m\u001b[38;5;241m*\u001b[39mkwargs)\n",
      "File \u001b[1;32m~\\anaconda3\\Lib\\site-packages\\pandas\\core\\generic.py:12420\u001b[0m, in \u001b[0;36mNDFrame.mean\u001b[1;34m(self, axis, skipna, numeric_only, **kwargs)\u001b[0m\n\u001b[0;32m  12413\u001b[0m \u001b[38;5;28;01mdef\u001b[39;00m \u001b[38;5;21mmean\u001b[39m(\n\u001b[0;32m  12414\u001b[0m     \u001b[38;5;28mself\u001b[39m,\n\u001b[0;32m  12415\u001b[0m     axis: Axis \u001b[38;5;241m|\u001b[39m \u001b[38;5;28;01mNone\u001b[39;00m \u001b[38;5;241m=\u001b[39m \u001b[38;5;241m0\u001b[39m,\n\u001b[1;32m   (...)\u001b[0m\n\u001b[0;32m  12418\u001b[0m     \u001b[38;5;241m*\u001b[39m\u001b[38;5;241m*\u001b[39mkwargs,\n\u001b[0;32m  12419\u001b[0m ) \u001b[38;5;241m-\u001b[39m\u001b[38;5;241m>\u001b[39m Series \u001b[38;5;241m|\u001b[39m \u001b[38;5;28mfloat\u001b[39m:\n\u001b[1;32m> 12420\u001b[0m     \u001b[38;5;28;01mreturn\u001b[39;00m \u001b[38;5;28mself\u001b[39m\u001b[38;5;241m.\u001b[39m_stat_function(\n\u001b[0;32m  12421\u001b[0m         \u001b[38;5;124m\"\u001b[39m\u001b[38;5;124mmean\u001b[39m\u001b[38;5;124m\"\u001b[39m, nanops\u001b[38;5;241m.\u001b[39mnanmean, axis, skipna, numeric_only, \u001b[38;5;241m*\u001b[39m\u001b[38;5;241m*\u001b[39mkwargs\n\u001b[0;32m  12422\u001b[0m     )\n",
      "File \u001b[1;32m~\\anaconda3\\Lib\\site-packages\\pandas\\core\\generic.py:12377\u001b[0m, in \u001b[0;36mNDFrame._stat_function\u001b[1;34m(self, name, func, axis, skipna, numeric_only, **kwargs)\u001b[0m\n\u001b[0;32m  12373\u001b[0m nv\u001b[38;5;241m.\u001b[39mvalidate_func(name, (), kwargs)\n\u001b[0;32m  12375\u001b[0m validate_bool_kwarg(skipna, \u001b[38;5;124m\"\u001b[39m\u001b[38;5;124mskipna\u001b[39m\u001b[38;5;124m\"\u001b[39m, none_allowed\u001b[38;5;241m=\u001b[39m\u001b[38;5;28;01mFalse\u001b[39;00m)\n\u001b[1;32m> 12377\u001b[0m \u001b[38;5;28;01mreturn\u001b[39;00m \u001b[38;5;28mself\u001b[39m\u001b[38;5;241m.\u001b[39m_reduce(\n\u001b[0;32m  12378\u001b[0m     func, name\u001b[38;5;241m=\u001b[39mname, axis\u001b[38;5;241m=\u001b[39maxis, skipna\u001b[38;5;241m=\u001b[39mskipna, numeric_only\u001b[38;5;241m=\u001b[39mnumeric_only\n\u001b[0;32m  12379\u001b[0m )\n",
      "File \u001b[1;32m~\\anaconda3\\Lib\\site-packages\\pandas\\core\\series.py:6457\u001b[0m, in \u001b[0;36mSeries._reduce\u001b[1;34m(self, op, name, axis, skipna, numeric_only, filter_type, **kwds)\u001b[0m\n\u001b[0;32m   6452\u001b[0m     \u001b[38;5;66;03m# GH#47500 - change to TypeError to match other methods\u001b[39;00m\n\u001b[0;32m   6453\u001b[0m     \u001b[38;5;28;01mraise\u001b[39;00m \u001b[38;5;167;01mTypeError\u001b[39;00m(\n\u001b[0;32m   6454\u001b[0m         \u001b[38;5;124mf\u001b[39m\u001b[38;5;124m\"\u001b[39m\u001b[38;5;124mSeries.\u001b[39m\u001b[38;5;132;01m{\u001b[39;00mname\u001b[38;5;132;01m}\u001b[39;00m\u001b[38;5;124m does not allow \u001b[39m\u001b[38;5;132;01m{\u001b[39;00mkwd_name\u001b[38;5;132;01m}\u001b[39;00m\u001b[38;5;124m=\u001b[39m\u001b[38;5;132;01m{\u001b[39;00mnumeric_only\u001b[38;5;132;01m}\u001b[39;00m\u001b[38;5;124m \u001b[39m\u001b[38;5;124m\"\u001b[39m\n\u001b[0;32m   6455\u001b[0m         \u001b[38;5;124m\"\u001b[39m\u001b[38;5;124mwith non-numeric dtypes.\u001b[39m\u001b[38;5;124m\"\u001b[39m\n\u001b[0;32m   6456\u001b[0m     )\n\u001b[1;32m-> 6457\u001b[0m \u001b[38;5;28;01mreturn\u001b[39;00m op(delegate, skipna\u001b[38;5;241m=\u001b[39mskipna, \u001b[38;5;241m*\u001b[39m\u001b[38;5;241m*\u001b[39mkwds)\n",
      "File \u001b[1;32m~\\anaconda3\\Lib\\site-packages\\pandas\\core\\nanops.py:147\u001b[0m, in \u001b[0;36mbottleneck_switch.__call__.<locals>.f\u001b[1;34m(values, axis, skipna, **kwds)\u001b[0m\n\u001b[0;32m    145\u001b[0m         result \u001b[38;5;241m=\u001b[39m alt(values, axis\u001b[38;5;241m=\u001b[39maxis, skipna\u001b[38;5;241m=\u001b[39mskipna, \u001b[38;5;241m*\u001b[39m\u001b[38;5;241m*\u001b[39mkwds)\n\u001b[0;32m    146\u001b[0m \u001b[38;5;28;01melse\u001b[39;00m:\n\u001b[1;32m--> 147\u001b[0m     result \u001b[38;5;241m=\u001b[39m alt(values, axis\u001b[38;5;241m=\u001b[39maxis, skipna\u001b[38;5;241m=\u001b[39mskipna, \u001b[38;5;241m*\u001b[39m\u001b[38;5;241m*\u001b[39mkwds)\n\u001b[0;32m    149\u001b[0m \u001b[38;5;28;01mreturn\u001b[39;00m result\n",
      "File \u001b[1;32m~\\anaconda3\\Lib\\site-packages\\pandas\\core\\nanops.py:404\u001b[0m, in \u001b[0;36m_datetimelike_compat.<locals>.new_func\u001b[1;34m(values, axis, skipna, mask, **kwargs)\u001b[0m\n\u001b[0;32m    401\u001b[0m \u001b[38;5;28;01mif\u001b[39;00m datetimelike \u001b[38;5;129;01mand\u001b[39;00m mask \u001b[38;5;129;01mis\u001b[39;00m \u001b[38;5;28;01mNone\u001b[39;00m:\n\u001b[0;32m    402\u001b[0m     mask \u001b[38;5;241m=\u001b[39m isna(values)\n\u001b[1;32m--> 404\u001b[0m result \u001b[38;5;241m=\u001b[39m func(values, axis\u001b[38;5;241m=\u001b[39maxis, skipna\u001b[38;5;241m=\u001b[39mskipna, mask\u001b[38;5;241m=\u001b[39mmask, \u001b[38;5;241m*\u001b[39m\u001b[38;5;241m*\u001b[39mkwargs)\n\u001b[0;32m    406\u001b[0m \u001b[38;5;28;01mif\u001b[39;00m datetimelike:\n\u001b[0;32m    407\u001b[0m     result \u001b[38;5;241m=\u001b[39m _wrap_results(result, orig_values\u001b[38;5;241m.\u001b[39mdtype, fill_value\u001b[38;5;241m=\u001b[39miNaT)\n",
      "File \u001b[1;32m~\\anaconda3\\Lib\\site-packages\\pandas\\core\\nanops.py:719\u001b[0m, in \u001b[0;36mnanmean\u001b[1;34m(values, axis, skipna, mask)\u001b[0m\n\u001b[0;32m    716\u001b[0m     dtype_count \u001b[38;5;241m=\u001b[39m dtype\n\u001b[0;32m    718\u001b[0m count \u001b[38;5;241m=\u001b[39m _get_counts(values\u001b[38;5;241m.\u001b[39mshape, mask, axis, dtype\u001b[38;5;241m=\u001b[39mdtype_count)\n\u001b[1;32m--> 719\u001b[0m the_sum \u001b[38;5;241m=\u001b[39m values\u001b[38;5;241m.\u001b[39msum(axis, dtype\u001b[38;5;241m=\u001b[39mdtype_sum)\n\u001b[0;32m    720\u001b[0m the_sum \u001b[38;5;241m=\u001b[39m _ensure_numeric(the_sum)\n\u001b[0;32m    722\u001b[0m \u001b[38;5;28;01mif\u001b[39;00m axis \u001b[38;5;129;01mis\u001b[39;00m \u001b[38;5;129;01mnot\u001b[39;00m \u001b[38;5;28;01mNone\u001b[39;00m \u001b[38;5;129;01mand\u001b[39;00m \u001b[38;5;28mgetattr\u001b[39m(the_sum, \u001b[38;5;124m\"\u001b[39m\u001b[38;5;124mndim\u001b[39m\u001b[38;5;124m\"\u001b[39m, \u001b[38;5;28;01mFalse\u001b[39;00m):\n",
      "File \u001b[1;32m~\\anaconda3\\Lib\\site-packages\\numpy\\core\\_methods.py:48\u001b[0m, in \u001b[0;36m_sum\u001b[1;34m(a, axis, dtype, out, keepdims, initial, where)\u001b[0m\n\u001b[0;32m     46\u001b[0m \u001b[38;5;28;01mdef\u001b[39;00m \u001b[38;5;21m_sum\u001b[39m(a, axis\u001b[38;5;241m=\u001b[39m\u001b[38;5;28;01mNone\u001b[39;00m, dtype\u001b[38;5;241m=\u001b[39m\u001b[38;5;28;01mNone\u001b[39;00m, out\u001b[38;5;241m=\u001b[39m\u001b[38;5;28;01mNone\u001b[39;00m, keepdims\u001b[38;5;241m=\u001b[39m\u001b[38;5;28;01mFalse\u001b[39;00m,\n\u001b[0;32m     47\u001b[0m          initial\u001b[38;5;241m=\u001b[39m_NoValue, where\u001b[38;5;241m=\u001b[39m\u001b[38;5;28;01mTrue\u001b[39;00m):\n\u001b[1;32m---> 48\u001b[0m     \u001b[38;5;28;01mreturn\u001b[39;00m umr_sum(a, axis, dtype, out, keepdims, initial, where)\n",
      "\u001b[1;31mTypeError\u001b[0m: unsupported operand type(s) for +: 'float' and 'str'"
     ]
    }
   ],
   "source": [
    "# Replacing second row of 'column_2' with a string\n",
    "df1.loc[2, 'column_2'] = 'string'\n",
    "\n",
    "# Calculating mean\n",
    "print(df1['column_2'].mean())\n"
   ]
  },
  {
   "cell_type": "markdown",
   "id": "4637ad2f-1404-49fd-969e-f4baf87da171",
   "metadata": {},
   "source": [
    "Explanation: This will throw an error because mean calculations require numeric data, and replacing a value with a string makes the column non-numeric."
   ]
  },
  {
   "cell_type": "code",
   "execution_count": 8,
   "id": "56be20ca-2c13-49da-abc3-7cd5cd99f502",
   "metadata": {},
   "outputs": [
    {
     "name": "stdout",
     "output_type": "stream",
     "text": [
      "Original DataFrame:\n",
      "   column_1  column_2  column_3\n",
      "1  0.050985  0.171806  0.153154\n",
      "2  0.255742  0.748776  0.437853\n",
      "3  0.147117  0.653463  0.274096\n",
      "\n",
      "Modified DataFrame:\n",
      "   column_1  column_2  column_3\n",
      "1  0.050985  0.171806  0.153154\n",
      "2  0.255742    string  0.437853\n",
      "3  0.147117  0.653463  0.274096\n",
      "\n",
      "Error: unsupported operand type(s) for +: 'float' and 'str'\n"
     ]
    },
    {
     "name": "stderr",
     "output_type": "stream",
     "text": [
      "C:\\Users\\ac240\\AppData\\Local\\Temp\\ipykernel_20736\\2656663936.py:14: FutureWarning: Setting an item of incompatible dtype is deprecated and will raise an error in a future version of pandas. Value 'string' has dtype incompatible with float64, please explicitly cast to a compatible dtype first.\n",
      "  df1.loc[2, 'column_2'] = \"string\"\n"
     ]
    }
   ],
   "source": [
    "import pandas as pd\n",
    "import numpy as np\n",
    "\n",
    "# Creating a DataFrame\n",
    "columns = ['column_1', 'column_2', 'column_3']\n",
    "indices = [1, 2, 3]\n",
    "df1 = pd.DataFrame(np.random.rand(3, 3), columns=columns, index=indices)\n",
    "\n",
    "# Display the original DataFrame\n",
    "print(\"Original DataFrame:\")\n",
    "print(df1)\n",
    "\n",
    "# Replacing the second row of column_2 with a string\n",
    "df1.loc[2, 'column_2'] = \"string\"\n",
    "\n",
    "# Display the modified DataFrame\n",
    "print(\"\\nModified DataFrame:\")\n",
    "print(df1)\n",
    "\n",
    "# Trying to calculate the mean of column_2\n",
    "try:\n",
    "    mean_value = df1['column_2'].mean()\n",
    "    print(f\"\\nMean of column_2: {mean_value}\")\n",
    "except Exception as e:\n",
    "    print(f\"\\nError: {e}\")\n"
   ]
  },
  {
   "cell_type": "markdown",
   "id": "ada283c1-21e3-49c1-a95e-84cbe243e621",
   "metadata": {},
   "source": [
    "Reason for Error\n",
    "The error occurs because the column column_2 contains mixed data types:\n",
    "\n",
    "Initially, column_2 was numeric, but replacing a value with a string makes the entire column's data type object (mixed).\n",
    "The .mean() method requires all values in the column to be numeric. When a string is present, Pandas cannot calculate the mean."
   ]
  },
  {
   "cell_type": "markdown",
   "id": "215126b1-1cd0-4721-9567-bea8517474a2",
   "metadata": {},
   "source": [
    "Solution to Avoid Error\n",
    "If you want to calculate the mean of numeric values only, you can convert the column back to numeric using pd.to_numeric() and handle errors:"
   ]
  },
  {
   "cell_type": "code",
   "execution_count": 9,
   "id": "ffc670e6-c619-4173-8601-db367238b9fc",
   "metadata": {},
   "outputs": [
    {
     "name": "stdout",
     "output_type": "stream",
     "text": [
      "\n",
      "Mean of column_2 after handling errors: 0.41263415188624547\n"
     ]
    }
   ],
   "source": [
    "# Convert column_2 to numeric, forcing errors to NaN\n",
    "df1['column_2'] = pd.to_numeric(df1['column_2'], errors='coerce')\n",
    "\n",
    "# Calculate the mean, ignoring NaN\n",
    "mean_value = df1['column_2'].mean()\n",
    "print(f\"\\nMean of column_2 after handling errors: {mean_value}\")\n"
   ]
  },
  {
   "cell_type": "markdown",
   "id": "d77eca81-915a-43bb-a2aa-03f528a0ca71",
   "metadata": {},
   "source": [
    "Key Takeaways\n",
    "Replacing numeric data with a string in a column changes the column's data type to object.\n",
    "The .mean() method cannot handle non-numeric values.\n",
    "Use pd.to_numeric(errors='coerce') to convert invalid entries to NaN, enabling calculations while ignoring non-numeric values."
   ]
  },
  {
   "cell_type": "markdown",
   "id": "4bac1c6d-6d48-40f1-bfc4-c41636f89f7b",
   "metadata": {},
   "source": [
    "Q6. What do you understand about the windows function in pandas and list the types of windows\r\n",
    "functions?"
   ]
  },
  {
   "cell_type": "markdown",
   "id": "8e8c537b-584c-4c5e-94d3-939e30682e46",
   "metadata": {},
   "source": [
    "Definition: A window function performs calculations across a specified range of rows.\n",
    "Types:\n",
    "Rolling: Applies calculations over a rolling window.\n",
    "Expanding: Applies calculations over all preceding rows.\n",
    "EWM (Exponentially Weighted Mean): Applies exponentially weighted calculations."
   ]
  },
  {
   "cell_type": "markdown",
   "id": "a5817464-0645-418a-98dd-e1e513cf8835",
   "metadata": {},
   "source": [
    "Q7. Write a code to print only the current month and year at the time of answering this question.\r\n",
    "[Hint: Use pandas.datetime function]"
   ]
  },
  {
   "cell_type": "code",
   "execution_count": null,
   "id": "f615f3f4-10f3-43f2-8d3f-3102221b0c42",
   "metadata": {},
   "outputs": [],
   "source": [
    "import pandas as pd\n",
    "\n",
    "# Current month and year\n",
    "current_date = pd.Timestamp.now()\n",
    "print(f\"Month: {current_date.month}, Year: {current_date.year}\")\n"
   ]
  },
  {
   "cell_type": "markdown",
   "id": "fd6eccad-3366-4ae6-b62c-02e7947d2c10",
   "metadata": {},
   "source": [
    "Q8. Write a Python program that takes in two dates as input (in the format YYYY-MM-DD) and\r\n",
    "calculates the difference between them in days, hours, and minutes using Pandas time delta. The\r\n",
    "program should prompt the user to enter the dates and display the result."
   ]
  },
  {
   "cell_type": "code",
   "execution_count": null,
   "id": "c220e107-15fd-4fb0-abcd-8531c0bdc903",
   "metadata": {},
   "outputs": [],
   "source": [
    "import pandas as pd\n",
    "\n",
    "# Input two dates\n",
    "date1 = pd.Timestamp(input(\"Enter the first date (YYYY-MM-DD): \"))\n",
    "date2 = pd.Timestamp(input(\"Enter the second date (YYYY-MM-DD): \"))\n",
    "\n",
    "# Calculate differences\n",
    "delta = date2 - date1\n",
    "print(f\"Days: {delta.days}, Hours: {delta.total_seconds() // 3600}, Minutes: {delta.total_seconds() // 60}\")\n"
   ]
  },
  {
   "cell_type": "markdown",
   "id": "cf35133c-7271-4eef-8843-587e687fba52",
   "metadata": {},
   "source": [
    "Q9. Write a Python program that reads a CSV file containing categorical data and converts a specified\r\n",
    "column to a categorical data type. The program should prompt the user to enter the file path, column\r\n",
    "name, and category order, and then display the sorted data."
   ]
  },
  {
   "cell_type": "code",
   "execution_count": null,
   "id": "8acc2e18-57d8-434e-8e44-bc01ccd65597",
   "metadata": {},
   "outputs": [],
   "source": [
    "import pandas as pd\n",
    "\n",
    "# Load CSV and convert column to categorical\n",
    "file_path = input(\"Enter CSV file path: \")\n",
    "column_name = input(\"Enter column name: \")\n",
    "category_order = input(\"Enter category order (comma-separated): \").split(',')\n",
    "\n",
    "df = pd.read_csv(file_path)\n",
    "df[column_name] = pd.Categorical(df[column_name], categories=category_order, ordered=True)\n",
    "\n",
    "# Display sorted data\n",
    "print(df.sort_values(column_name))\n"
   ]
  },
  {
   "cell_type": "markdown",
   "id": "5b90b042-79a1-49f8-b62b-cbb55589b989",
   "metadata": {},
   "source": [
    "Q10. Write a Python program that reads a CSV file containing sales data for different products and\r\n",
    "visualizes the data using a stacked bar chart to show the sales of each product category over time. The\r\n",
    "program should prompt the user to enter the file path and display the chart."
   ]
  },
  {
   "cell_type": "code",
   "execution_count": null,
   "id": "e93497c4-7944-478f-8d22-a4f86480891d",
   "metadata": {},
   "outputs": [],
   "source": [
    "import pandas as pd\n",
    "import matplotlib.pyplot as plt\n",
    "\n",
    "# Read CSV\n",
    "file_path = input(\"Enter CSV file path: \")\n",
    "df = pd.read_csv(file_path)\n",
    "\n",
    "# Plot stacked bar chart\n",
    "df.groupby(['Date', 'Product_Category'])['Sales'].sum().unstack().plot(kind='bar', stacked=True)\n",
    "plt.title(\"Sales by Product Category Over Time\")\n",
    "plt.xlabel(\"Date\")\n",
    "plt.ylabel(\"Sales\")\n",
    "plt.legend(title=\"Product Category\")\n",
    "plt.show()\n"
   ]
  },
  {
   "cell_type": "markdown",
   "id": "8d0e757d-5dc3-4547-a3a2-c1f71f81c584",
   "metadata": {},
   "source": [
    "Q11. You are given a CSV file containing student data that includes the student ID and their test score. Write\r\n",
    "a Python program that reads the CSV file, calculates the mean, median, and mode of the test scores, and\r\n",
    "displays the results in a table.\r\n",
    "The program should do the followingM\r\n",
    "I Prompt the user to enter the file path of the CSV file containing the student dataR\r\n",
    "I Read the CSV file into a Pandas DataFrameR\r\n",
    "I Calculate the mean, median, and mode of the test scores using Pandas toolsR\r\n",
    "I Display the mean, median, and mode in a table.\r\n",
    "Assume the CSV file contains the following columnsM\r\n",
    "I Student ID: The ID of the studentR\r\n",
    "I Test Score: The score of the student's test.\r\n",
    "Example usage of the program:\r\n",
    "Enter the file path of the CSV file containing the student data: student_data.csv\r\n",
    "+-----------+--------+\r\n",
    "| Statistic | Value |\r\n",
    "+-----------+--------+\r\n",
    "| Mean | 79.6 |\r\n",
    "| Median | 82 |\r\n",
    "| Mode | 85, 90 |\r\n",
    "+-----------+--------+\r\n",
    "Assume that the CSV file student_data.csv contains the following data:\r\n",
    "Student ID,Test Score\r\n",
    "1,85\r\n",
    "2,90\r\n",
    "3,80\r\n",
    "4,75\r\n",
    "5,85\r\n",
    "6,82\r\n",
    "7,78\r\n",
    "8,85\r\n",
    "9,90\r\n",
    "10,85\r\n",
    "The program should calculate the mean, median, and mode of the test scores and display the results\r\n",
    "in a table."
   ]
  },
  {
   "cell_type": "code",
   "execution_count": 10,
   "id": "33bd6e7d-085c-44c3-939d-856da7532928",
   "metadata": {},
   "outputs": [
    {
     "name": "stdout",
     "output_type": "stream",
     "text": [
      "+-----------+--------+\n",
      "| Statistic | Value  |\n",
      "+-----------+--------+\n",
      "| Mean      | 83.50 |\n",
      "| Median    | 85   |\n",
      "| Mode      | 85 |\n",
      "+-----------+--------+\n"
     ]
    }
   ],
   "source": [
    "import pandas as pd\n",
    "\n",
    "# Load the CSV file\n",
    "file_path = \"C:/Users/ac240/BA 2 2025/Dataset/student_data-1.csv\"  # Replace with the downloaded file path\n",
    "df = pd.read_csv(file_path)\n",
    "\n",
    "# Calculate statistics\n",
    "mean = df['Test Score'].mean()\n",
    "median = df['Test Score'].median()\n",
    "mode = df['Test Score'].mode().tolist()\n",
    "\n",
    "# Display results in a table\n",
    "print(\"+-----------+--------+\")\n",
    "print(\"| Statistic | Value  |\")\n",
    "print(\"+-----------+--------+\")\n",
    "print(f\"| Mean      | {mean:.2f} |\")\n",
    "print(f\"| Median    | {median:.0f}   |\")\n",
    "print(f\"| Mode      | {', '.join(map(str, mode))} |\")\n",
    "print(\"+-----------+--------+\")\n"
   ]
  },
  {
   "cell_type": "code",
   "execution_count": 11,
   "id": "face5ead-1fa5-49e1-8bc4-ca4f5cb92ad5",
   "metadata": {},
   "outputs": [
    {
     "name": "stdin",
     "output_type": "stream",
     "text": [
      "Enter the file path of the CSV file:  C:/Users/ac240/BA 2 2025/Dataset/student_data-1.csv\n"
     ]
    },
    {
     "name": "stdout",
     "output_type": "stream",
     "text": [
      "+-----------+--------+\n",
      "| Statistic | Value  |\n",
      "+-----------+--------+\n",
      "| Mean      | 83.50 |\n",
      "| Median    | 85   |\n",
      "| Mode      | 85 |\n",
      "+-----------+--------+\n"
     ]
    }
   ],
   "source": [
    "import pandas as pd\n",
    "\n",
    "# Prompt user for file path\n",
    "file_path = input(\"Enter the file path of the CSV file: \")\n",
    "\n",
    "# Load data\n",
    "df = pd.read_csv(file_path)\n",
    "\n",
    "# Calculate statistics\n",
    "mean = df['Test Score'].mean()\n",
    "median = df['Test Score'].median()\n",
    "mode = df['Test Score'].mode().tolist()\n",
    "\n",
    "# Display results\n",
    "print(f\"+-----------+--------+\")\n",
    "print(f\"| Statistic | Value  |\")\n",
    "print(f\"+-----------+--------+\")\n",
    "print(f\"| Mean      | {mean:.2f} |\")\n",
    "print(f\"| Median    | {median:.0f}   |\")\n",
    "print(f\"| Mode      | {', '.join(map(str, mode))} |\")\n",
    "print(f\"+-----------+--------+\")\n"
   ]
  },
  {
   "cell_type": "code",
   "execution_count": null,
   "id": "24b38eaf-66e9-448c-ae65-dda29da01686",
   "metadata": {},
   "outputs": [],
   "source": []
  }
 ],
 "metadata": {
  "kernelspec": {
   "display_name": "Python 3 (ipykernel)",
   "language": "python",
   "name": "python3"
  },
  "language_info": {
   "codemirror_mode": {
    "name": "ipython",
    "version": 3
   },
   "file_extension": ".py",
   "mimetype": "text/x-python",
   "name": "python",
   "nbconvert_exporter": "python",
   "pygments_lexer": "ipython3",
   "version": "3.11.5"
  }
 },
 "nbformat": 4,
 "nbformat_minor": 5
}

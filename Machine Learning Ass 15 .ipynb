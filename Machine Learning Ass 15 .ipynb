{
 "cells": [
  {
   "cell_type": "markdown",
   "id": "9d3761dd-b4f5-4859-9b4c-2fa2de416036",
   "metadata": {},
   "source": [
    "Q1: Explain the following with an example:\n",
    "a) Artificial Intelligence\n",
    "b) Machine Learning,\n",
    "c) Deep Learning\n",
    "\n"
   ]
  },
  {
   "cell_type": "markdown",
   "id": "b4f7d0f9-0f88-4991-8bc5-3605010fcac9",
   "metadata": {},
   "source": [
    "# a) Artificial Intelligence (AI):\n",
    "## Definition:\n",
    "AI refers to any technology that enables machines to mimic human intelligence, performing tasks like decision-making, problem-solving, learning, or adapting based on inputs.\n",
    "Artificial Intelligence is the overarching domain that encompasses any technique enabling machines to mimic human intelligence. It involves algorithms and systems that can perform tasks requiring human-like cognition, such as decision-making, problem-solving, learning, and adapting.\n",
    "## Example Google Maps::\n",
    "AI powers features like route optimization and traffic prediction. When you input your destination, the system dynamically calculates the shortest or fastest route based on real-time traffic conditions, historical data, and ongoing user movements. If an accident occurs on a route, AI quickly recalculates and suggests an alternative. This intelligence mimics human decision-making by processing large volumes of data quickly and efficiently.\n",
    "\n",
    "Consider Google Maps. AI powers its ability to recommend the fastest routes by analyzing traffic conditions, predicting delays, and suggesting alternate paths. It uses real-time data from various sources to make decisions dynamically, much like a human navigator.\n",
    "\n",
    "# b) Machine Learning (ML):\n",
    "## Definition:\n",
    "ML is a subset of AI that enables systems to learn from data and improve their performance over time without being explicitly programmed for each task. It relies on algorithms that identify patterns and relationships within labeled datasets.\n",
    "Machine Learning is a subset of AI focused on creating systems that can learn from data and improve performance over time without explicitly programmed rules. It relies on mathematical models and statistics to identify patterns in labeled data and make predictions or decisions.\n",
    "## Example:Email Spam Filters:\n",
    "An email spam filter uses ML. Initially, an ML algorithm is trained on a dataset containing labeled emails (spam or not spam). By analyzing a dataset of emails labeled as \"spam\" or \"not spam,\" it learns to identify characteristics of spam emails.  Features like sender addresses, specific keywords or suspicious sender addresseS and email structure are analyzed.\n",
    "\n",
    " Over time, as it processes new emails and compares them to the patterns it has learned, it improves its accuracy in classifying spam emails.\n",
    "For example, an email containing \"Congratulations, you’ve won!\" with certain sender characteristics will be flagged as spam based on its learned patterns.\n",
    "\n",
    "# c) Deep Learning (DL):\n",
    "## Definition:\n",
    "DL is a specialized branch of ML that uses neural networks to process large amounts of unstructured or unlabeled data. It excels at understanding complex relationships in data, such as images, audio, or text.\n",
    "\n",
    "Deep learning, a specialized subset of ML, employs neural networks to learn complex patterns in unstructured or high-dimensional data. It processes data through multiple layers of nodes (neurons) to extract increasingly abstract features.\n",
    "\n",
    "## Example in Detail:\n",
    "Facial Recognition (e.g., Apple’s Face ID):\n",
    "Facial recognition software like Apple's Face ID employs DL. Neural networks analyze millions of facial features and variations, such as angles, lighting, and expressions. Over time, the model learns to recognize specific faces with high accuracy, even under varying conditions.\n",
    "\n",
    "DL algorithms analyze millions of facial images to learn unique features like the distance between eyes or nose shape. These features are processed across several neural network layers to create a robust model. When a user tries to unlock their phone, the system matches the input face against stored patterns. Variations like lighting, angles, or expressions are accounted for due to the deep layers' capacity to generalize from complex data.\n",
    "\n",
    "# Relationship Between AI, ML, and DL:\n",
    "1. AI is the broadest concept, encompassing all techniques to mimic human intelligence.\n",
    "2. ML is a data-driven subset of AI, focusing on learning from structured data.ML is a subset of AI where the system learns from data instead of being explicitly programmed.\n",
    "3. DL is a more complex subset of ML, utilizing neural networks to work with unstructured data like images, videos, or audio.DL is a subset of ML that uses neural networks for advanced learning and unstructured data handling\n",
    " \n",
    "## Visual Analogy:\n",
    "AI as the Umbrella: Encompasses all techniques mimicking intelligence.\n",
    "ML as a Tool: A focused methodology within AI to enable data-driven learning.\n",
    "DL as a Refined Version: The most advanced tool for handling high-dimensional, unstructured data.."
   ]
  },
  {
   "cell_type": "markdown",
   "id": "2b575a38-f2a3-4045-96f7-0d09b4da29a6",
   "metadata": {},
   "source": [
    "Q2: What is supervised learning? List some examples of supervised learning.\n",
    "\n"
   ]
  },
  {
   "cell_type": "markdown",
   "id": "c2e9e4c5-c3fa-480e-a1f1-63260c14f80c",
   "metadata": {},
   "source": [
    "# Definition:\n",
    "Supervised learning is a type of ML where the algorithm is trained on labeled data (input-output pairs). It learns to map inputs to correct outputs based on the training data.\n",
    "Supervised learning is a type of machine learning where a computer learns to make predictions or decisions based on labeled data. Labeled data means the input data (features) and the output data (labels) are already known. The algorithm studies the relationship between the inputs and outputs to learn patterns and make predictions on new, unseen data.\n",
    "\n",
    "# Examples of Supervised Learning:\n",
    "\n",
    "# 1. Predicting House Prices (Regression):\n",
    "## What it does:\n",
    "This involves predicting the price of a house based on features like its size, location, number of bedrooms, and proximity to amenities. The output is a continuous numerical value (the house price), making it a regression problem.\n",
    "\n",
    "## How it works:\n",
    "The algorithm is trained on a labeled dataset where each entry includes:\n",
    "\n",
    "**Input variables (features):** e.g., square footage, neighborhood rating, number of bathrooms.\n",
    "**Output variable (label):** e.g., the actual sale price of the house. The model learns the relationship between the features and the sale price. Once trained, it can predict the price of a house not included in the training data.\n",
    "## Example Scenario:\n",
    "A dataset might include 1,000 houses, their features, and their respective sale prices. The algorithm uses this data to predict the price of a house with 2,000 square feet in a particular area. The result could be something like $350,000.\n",
    "\n",
    "2. Email spam detection (Classification):\n",
    "    - Used to classify emails as spam or not spam.\n",
    "    - The algorithm is trained on a labeled dataset of emails, learning the patterns that distinguish spam from legitimate emails.\n",
    "\n",
    "## What it does:\n",
    "Classifies incoming emails as spam or not spam using a labeled dataset.\n",
    "\n",
    "## How it works:\n",
    "The algorithm is trained on labeled data:\n",
    "**Input variables (features):** e.g., sender’s email, subject keywords, presence of specific phrases, number of links.\n",
    "**Output variable (label):** e.g., \"spam\" or \"not spam\". The model identifies patterns and relationships that distinguish spam emails (e.g., \"You’ve won $1 million!\") from legitimate ones. Once trained, the model can classify new emails as spam or legitimate.\n",
    "## Example Scenario:\n",
    "An email containing the phrase \"urgent money transfer\" and multiple links might be classified as spam and moved to the spam folder.\n",
    "3. Image recognition (Classification)\n",
    "\n",
    "## What it does:\n",
    "Image recognition tasks involve classifying images into categories. For example, identifying whether an image contains a dog, cat, or bird.\n",
    "\n",
    "## How it works:\n",
    "The algorithm is trained on a labeled dataset of images, where:\n",
    "\n",
    "**Input:** Images of objects (e.g., dogs, cats, birds).\n",
    "**Output (labels):** The name or category of the object in each image. The model learns patterns like shapes, colors, and textures that distinguish one object from another. After training, the algorithm can classify new images.\n",
    "## Example Scenario:\n",
    "A dataset contains thousands of labeled images of dogs, cats, and birds. After training, the model can classify a new image, such as a picture of a Labrador, as a dog. This is used in applications like Google Photos, which automatically organizes pictures based on the objects in them.\n",
    "4. Credit scoring (Regression)\n",
    "    - Predicts whether a loan applicant is likely to repay a loan.\n",
    "    - The algorithm is trained using past applicants’ data like income, employment, and repayment history.\n",
    "\n",
    "## What it does:\n",
    "Predicts whether a loan applicant is creditworthy, based on features like income, credit history, and employment.\n",
    "\n",
    "## How it works:\n",
    "The algorithm is trained on labeled data:\n",
    "\n",
    "**Input variables (features):** Applicant’s credit score, income, loan amount, job stability, etc.\n",
    "**Output variable (label):** Loan repayment status (e.g., \"repaid\" or \"defaulted\"). The model learns to identify patterns, such as high-income applicants with good credit history being more likely to repay loans. Once trained, it can assess new applicants.\n",
    "## Example Scenario:\n",
    "If a new applicant earns $60,000 annually, has a credit score of 750, and has a stable job, the algorithm might predict a 90% chance of loan repayment.\n",
    "\n",
    "5. Voice Recognition (Classification):\n",
    "    - Used in virtual assistants (e.g., Siri, Alexa) to understand spoken commands.\n",
    "    - The algorithm learns from a dataset of spoken words and their corresponding text, recognizing patterns to transcribe speech into text.\n",
    "## What it does:\n",
    "Converts spoken commands into text, enabling applications like Siri or Alexa to understand and respond.\n",
    "\n",
    "## How it works:\n",
    "The algorithm is trained on:\n",
    "\n",
    "**Input variables (features):** Audio characteristics such as pitch, amplitude, and frequency.\n",
    "**Output variable (label):** Text corresponding to the audio (e.g., \"Turn off the lights\"). The model learns the relationship between audio features and their corresponding text. Once trained, it can transcribe new audio inputs and enable virtual assistants to act accordingly.\n",
    "## Example Scenario:\n",
    "If the dataset includes phrases like \"Play music\" and their audio patterns, the model can recognize and transcribe this command when spoken. It might then activate a music player in response.\n",
    "\n",
    "## Summary Table:\n",
    "Task\t                Type\t         Example Scenario\n",
    "Predicting House Prices\tRegression\t     Predicts a house’s price based on features like size, location, and amenities.\n",
    "Email Spam Detection\tClassification\t Identifies an email as spam or legitimate based on keywords, links, and sender details.\n",
    "Image Recognition\t    Classification\t Classifies an image of a Labrador as a dog based on shapes and textures in the image.\n",
    "Credit Scoring\t        Regression\t     Predicts loan repayment likelihood for a new applicant based on income, credit history, and job stability.\n",
    "Voice Recognition\t    Classification\tTranscribes the command \"Turn off the lights\" into text and activates the required action.\n",
    "\n",
    "\n",
    "\n",
    "# Key Steps in Supervised Learning:\n",
    "\n",
    "1. Collect labeled data.\n",
    "2. Split the data into training (to teach the model) and testing (to evaluate performance).\n",
    "3. Train the algorithm on the training data.\n",
    "4. Test the algorithm to ensure accuracy.\n",
    "5. Use the model to make predictions on new, unlabeled data.\n",
    "\n",
    "Supervised learning is widely used in real-life applications like fraud detection, personalized recommendations, and customer behavior analysis."
   ]
  },
  {
   "cell_type": "markdown",
   "id": "b5f29bc9-e2e1-4332-b7d4-fb0a1375faa3",
   "metadata": {},
   "source": [
    "Q3:  What is unsupervised learning? List some examples of unsupervised learning.\n",
    "\n"
   ]
  },
  {
   "cell_type": "markdown",
   "id": "5a6722c9-497b-4651-a364-5a3aa32b1a80",
   "metadata": {},
   "source": [
    "\n",
    "Unsupervised learning deals with unlabeled data. The algorithm identifies patterns or structures in the data.\n",
    "\n",
    "# Examples:\n",
    "\n",
    "1. Customer segmentation (Clustering)\n",
    "2. Anomaly detection (Clustering/Dimensionality Reduction)\n",
    "3. Market basket analysis (Association Rules)\n",
    "4. Image compression (Dimensionality Reduction)"
   ]
  },
  {
   "cell_type": "markdown",
   "id": "c85eaf3a-ae73-48d8-9df7-f9832fd3f2f5",
   "metadata": {},
   "source": [
    "Q4: What is the difference between AI, ML, DL, and DS?\n",
    "\n"
   ]
  },
  {
   "cell_type": "markdown",
   "id": "c95af019-3ec9-4748-acc4-1b62b34629da",
   "metadata": {},
   "source": [
    "<table>\n",
    "    <tr><th>Aspect<th>\tArtificial Intelligence (AI)<th>Machine Learning (ML)<th>Deep Learning (DL)<th>\tData Science (DS)</tr>\n",
    "<tr><td>Definition\t<td>Simulation of human intelligence\t<td>Learning from data\t<td>Neural network-based learning\t<td>Analysis of data to derive insights</tr>\n",
    "<tr><td>Scope\t<td>Broad\t<td>A subset of AI\t<td>A subset of ML\t<td>Encompasses AI and ML</tr>\n",
    "<tr><td>Data Dependency\t<td>Not always data-dependent\t<td>Data-dependent\t<td>Heavily data-dependent\t<td>Focuses on data preparation</tr>\n",
    "<tr><td>Examples\t<td>Chatbots, Expert Systems\t<td>Spam Filters, Predictive Models\t<td>Facial Recognition, NLP\t<td>Data Analytics, Business Insights</tr>"
   ]
  },
  {
   "cell_type": "markdown",
   "id": "4101f555-0cd5-4785-82ad-8b91c4e7caf7",
   "metadata": {},
   "source": [
    "Q5: What are the main differences between supervised, unsupervised, and semi-supervised learning?\n",
    "\n"
   ]
  },
  {
   "cell_type": "markdown",
   "id": "2c5bb61b-dcb4-40a2-b584-d55385a019c8",
   "metadata": {},
   "source": [
    "<table><tr><td>Aspect\t<th>Supervised Learning\t<th>Unsupervised Learning\t<th>Semi-Supervised Learning</tr>\n",
    "<tr><td>Definition\t<td>Learns from labeled data\t<td>Learns from unlabeled data\t<td>Uses a mix of labeled and unlabeled data</tr>\n",
    "<tr><td>Examples\t<td>Regression, Classification\t<td>Clustering, Dimensionality Reduction\t<td>Text classification with partially labeled data</tr>\n",
    "<tr><td>Output\t<td>Predicts outputs\t<td>Identifies hidden structures\t<td>Predicts and structures data</tr></table>"
   ]
  },
  {
   "cell_type": "markdown",
   "id": "f92ed2e3-671d-455f-840f-0b2787c99f09",
   "metadata": {},
   "source": [
    "Q6: What is train, test and validation split? Explain the importance of each term.\n",
    "\n"
   ]
  },
  {
   "cell_type": "markdown",
   "id": "4ab2c48b-f03e-4c6e-8d3a-f1f30a6e6c04",
   "metadata": {},
   "source": [
    "# Training Set:\n",
    "\n",
    "- Used to train the model.\n",
    "- Represents the majority of the dataset.\n",
    "## Importance: Helps the model learn patterns and relationships in the data.\n",
    "\n",
    "# Validation Set:\n",
    "\n",
    "- Used to tune the model's hyperparameters.\n",
    "- Prevents overfitting.\n",
    "## Importance: Provides an unbiased evaluation during training.\n",
    "\n",
    "# Test Set:\n",
    "\n",
    "- Used to evaluate the model's final performance.\n",
    "- Ensures that the model generalizes well to unseen data.\n",
    "## Importance: Validates the robustness of the model."
   ]
  },
  {
   "cell_type": "markdown",
   "id": "e37e04ca-678f-44e7-ac6d-671034d177c4",
   "metadata": {},
   "source": [
    "Q7: How can unsupervised learning be used in anomaly detection?\n",
    "\n"
   ]
  },
  {
   "cell_type": "markdown",
   "id": "998e064c-3318-4d8f-b617-96ba0708f433",
   "metadata": {},
   "source": [
    "Anomaly detection identifies outliers or unusual patterns in data. In unsupervised learning, clustering or dimensionality reduction methods can highlight anomalies as points that do not fit into any cluster or deviate from the majority.\n",
    "\n",
    "# Example:\n",
    "In network security, clustering algorithms like k-means can detect unusual login patterns or network activity as anomalies."
   ]
  },
  {
   "cell_type": "markdown",
   "id": "565a352b-6c47-4cf0-921c-915cf116c15d",
   "metadata": {},
   "source": [
    "Q8: List down some commonly used supervised learning algorithms and unsupervised learning\n",
    "algorithms."
   ]
  },
  {
   "cell_type": "markdown",
   "id": "f792b5d4-1bb1-4993-b7e1-18e886fcbffe",
   "metadata": {},
   "source": [
    "# Supervised Learning Algorithms:\n",
    "1. Linear Regression\n",
    "2. Logistic Regression\n",
    "3. Decision Trees\n",
    "4. Support Vector Machines (SVM)\n",
    "5. Random Forest\n",
    "6. Gradient Boosting (e.g., XGBoost, CatBoost)\n",
    "\n",
    "# Unsupervised Learning Algorithms:\n",
    "1. K-Means Clustering\n",
    "2. DBSCAN\n",
    "3. Principal Component Analysis (PCA)\n",
    "4. Autoencoders\n",
    "5. Hierarchical Clustering\n",
    "6. Gaussian Mixture Models\n",
    "\n"
   ]
  },
  {
   "cell_type": "code",
   "execution_count": null,
   "id": "d37c4dc5-cba2-412f-b6c3-bafa10526fbf",
   "metadata": {},
   "outputs": [],
   "source": []
  }
 ],
 "metadata": {
  "kernelspec": {
   "display_name": "Python 3 (ipykernel)",
   "language": "python",
   "name": "python3"
  },
  "language_info": {
   "codemirror_mode": {
    "name": "ipython",
    "version": 3
   },
   "file_extension": ".py",
   "mimetype": "text/x-python",
   "name": "python",
   "nbconvert_exporter": "python",
   "pygments_lexer": "ipython3",
   "version": "3.11.5"
  }
 },
 "nbformat": 4,
 "nbformat_minor": 5
}

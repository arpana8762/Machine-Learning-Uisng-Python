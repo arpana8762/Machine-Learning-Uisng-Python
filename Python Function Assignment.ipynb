{
 "cells": [
  {
   "cell_type": "markdown",
   "id": "ffb68901-aeac-40c9-ab69-e839fb364601",
   "metadata": {},
   "source": [
    "Q1. Which keyword is used to create a function? Create a function to return a list of odd numbers in the\r\n",
    "range of 1 to 25."
   ]
  },
  {
   "cell_type": "markdown",
   "id": "7a248bc2-5e0c-4b92-83cd-2ec419084c6d",
   "metadata": {},
   "source": [
    "Definition:\n",
    "In Python, the def keyword is used to create a function. A function is a block of reusable code designed to perform a specific task.\n",
    "\n",
    "Why We Use Functions:\n",
    "\n",
    "To organize code into logical chunks.\n",
    "To reuse code and avoid redundancy.\n",
    "To improve code readability and maintainability.\n",
    "To enable modular programming.\n",
    "Key Features of Functions:\n",
    "\n",
    "They can take inputs (parameters).\n",
    "They can return outputs.\n",
    "They can be used multiple times.\n",
    "Syntax:\n",
    "\n",
    "def function_name(parameters):\n",
    "    # Function body\n",
    "    return value\n",
    "Example with Explanation:\n",
    "Here is a function that returns a list of odd numbers in the range of 1 to 25."
   ]
  },
  {
   "cell_type": "code",
   "execution_count": 6,
   "id": "5f303136-6d47-437d-95e7-259117fda27f",
   "metadata": {},
   "outputs": [
    {
     "name": "stdout",
     "output_type": "stream",
     "text": [
      "[1, 3, 5, 7, 9, 11, 13, 15, 17, 19, 21, 23, 25]\n"
     ]
    }
   ],
   "source": [
    "def odd_numbers():\n",
    "    # Using a list comprehension to generate odd numbers\n",
    "    return [num for num in range(1, 26) if num % 2 != 0]\n",
    "\n",
    "# Calling the function\n",
    "print(odd_numbers())\n"
   ]
  },
  {
   "cell_type": "markdown",
   "id": "ddb82fbf-37b1-4dcf-8e5e-183f8ced310e",
   "metadata": {},
   "source": [
    "Q2. Why *args and **kwargs is used in some functions? Create a function each for *args and **kwargs to\r\n",
    "demonstrate their use."
   ]
  },
  {
   "cell_type": "markdown",
   "id": "dd472244-4e6e-407d-a86b-c541a6017642",
   "metadata": {},
   "source": [
    "Definition:\n",
    "\n",
    "*args: Allows a function to accept any number of positional arguments.\n",
    "**kwargs: Allows a function to accept any number of keyword arguments.\n",
    "Why We Use Them:\n",
    "\n",
    "For flexibility when the number of arguments is unknown.\n",
    "To handle both positional and named arguments dynamically.\n",
    "Key Features:\n",
    "\n",
    "*args collects additional positional arguments as a tuple.\n",
    "**kwargs collects additional keyword arguments as a dictionary.\n",
    "Important Points to Note:\n",
    "\n",
    "*args must appear before **kwargs in the function definition.\n",
    "They are optional parameters.\n",
    "Syntax:\n",
    "\n",
    "def function_name(*args):\n",
    "    # Access args as a tuple\n",
    "    pass\n",
    "\n",
    "def function_name(**kwargs):\n",
    "    # Access kwargs as a dictionary\n",
    "    pass\n",
    "Example with Explanation:\n",
    "Using *args:"
   ]
  },
  {
   "cell_type": "code",
   "execution_count": 5,
   "id": "01c8ae2c-ff56-4b6b-8049-1f99dd0defc3",
   "metadata": {},
   "outputs": [
    {
     "name": "stdout",
     "output_type": "stream",
     "text": [
      "15\n"
     ]
    }
   ],
   "source": [
    "def sum_numbers(*args):\n",
    "    return sum(args)\n",
    "\n",
    "print(sum_numbers(1, 2, 3, 4, 5))  # Output: 15\n"
   ]
  },
  {
   "cell_type": "markdown",
   "id": "598c82ed-229a-48af-98ea-5923a7ce3d48",
   "metadata": {},
   "source": [
    "Using **kwargs:"
   ]
  },
  {
   "cell_type": "code",
   "execution_count": 4,
   "id": "05737c53-8fd0-44f9-afe2-34904fbe034c",
   "metadata": {},
   "outputs": [
    {
     "name": "stdout",
     "output_type": "stream",
     "text": [
      "name: Alice\n",
      "age: 25\n",
      "location: Delhi\n"
     ]
    }
   ],
   "source": [
    "def display_info(**kwargs):\n",
    "    for key, value in kwargs.items():\n",
    "        print(f\"{key}: {value}\")\n",
    "\n",
    "display_info(name=\"Alice\", age=25, location=\"Delhi\")\n",
    "# Output:\n",
    "# name: Alice\n",
    "# age: 25\n",
    "# location: Delhi\n"
   ]
  },
  {
   "cell_type": "markdown",
   "id": "378d8b7f-0b64-428d-b4cc-79fa89bd5d3d",
   "metadata": {},
   "source": [
    "Q3. What is an iterator in python? Name the method used to initialise the iterator object and the method\r\n",
    "used for iteration. Use these methods to print the first five elements of the given list [2, 4, 6, 8, 10, 12, 14, 16,\r\n",
    "18, 20]."
   ]
  },
  {
   "cell_type": "markdown",
   "id": "2c019eca-ef93-453d-a279-b5785117f8f2",
   "metadata": {},
   "source": [
    "Definition:\n",
    "An iterator in Python is an object that enables traversing a container (e.g., lists, tuples) element by element.\n",
    "\n",
    "Why We Use Iterators:\n",
    "\n",
    "To process items one at a time.\n",
    "To work with large datasets without loading all data into memory.\n",
    "To iterate through complex data structures.\n",
    "Key Methods:\n",
    "\n",
    "iter(): Initializes an iterator object.\n",
    "next(): Retrieves the next element from the iterator.\n",
    "Important Points to Note:\n",
    "\n",
    "Iterators maintain state between calls to next().\n",
    "Iterators raise a StopIteration exception when there are no more elements.\n",
    "Syntax:\n",
    "\n",
    "iterator = iter(iterable)\n",
    "next(iterator)\n",
    "Example with Explanation:\n",
    "\n"
   ]
  },
  {
   "cell_type": "code",
   "execution_count": 3,
   "id": "5605e671-6d84-459b-8a82-7bf6689d2674",
   "metadata": {},
   "outputs": [
    {
     "name": "stdout",
     "output_type": "stream",
     "text": [
      "2\n",
      "4\n",
      "6\n",
      "8\n",
      "10\n"
     ]
    }
   ],
   "source": [
    "my_list = [2, 4, 6, 8, 10, 12, 14, 16, 18, 20]\n",
    "iterator = iter(my_list)  # Initialize the iterator\n",
    "\n",
    "for _ in range(5):\n",
    "    print(next(iterator))\n"
   ]
  },
  {
   "cell_type": "markdown",
   "id": "dd4a7f1d-b5d3-47f7-9806-5052b759508a",
   "metadata": {},
   "source": [
    "Q4. What is a generator function in python? Why yield keyword is used? Give an example of a generator\r\n",
    "function."
   ]
  },
  {
   "cell_type": "markdown",
   "id": "b892e25f-97e0-40b3-b650-d18775c82838",
   "metadata": {},
   "source": [
    "Definition:\n",
    "A generator function is a special type of function that yields items one at a time instead of returning them all at once.\n",
    "\n",
    "Why We Use yield:\n",
    "\n",
    "To create iterators with less memory overhead.\n",
    "To produce items lazily (one at a time, as needed).\n",
    "To simplify the implementation of complex iterators.\n",
    "Key Features:\n",
    "\n",
    "Generator functions use yield instead of return.\n",
    "They maintain their state between calls.\n",
    "Important Points to Note:\n",
    "\n",
    "Generators improve performance for large datasets.\n",
    "They can only be traversed once.\n",
    "Syntax:\n",
    "\n",
    "def generator_function():\n",
    "    yield value\n",
    "Example with Explanation:\n",
    "\n"
   ]
  },
  {
   "cell_type": "code",
   "execution_count": 2,
   "id": "7e3e9f57-acae-4bd7-ae14-4dffc06b06c2",
   "metadata": {},
   "outputs": [
    {
     "name": "stdout",
     "output_type": "stream",
     "text": [
      "0\n",
      "1\n",
      "1\n",
      "2\n",
      "3\n"
     ]
    }
   ],
   "source": [
    "def fibonacci(n):\n",
    "    a, b = 0, 1\n",
    "    for _ in range(n):\n",
    "        yield a\n",
    "        a, b = b, a + b\n",
    "\n",
    "fib_gen = fibonacci(5)\n",
    "for num in fib_gen:\n",
    "    print(num)\n"
   ]
  },
  {
   "cell_type": "markdown",
   "id": "184162b4-a758-4cf2-834d-1c280aff11ed",
   "metadata": {},
   "source": [
    "Q5. Create a generator function for prime numbers less than 1000. Use the next() method to print the\r\n",
    "first 20 prime numbers."
   ]
  },
  {
   "cell_type": "markdown",
   "id": "85ca559b-6af8-4e10-8b5e-2510a3c1b4bc",
   "metadata": {},
   "source": [
    "Definition:\n",
    "A generator function can be used to generate prime numbers efficiently.\n",
    "\n",
    "Why We Use It for Prime Numbers:\n",
    "\n",
    "To avoid storing a large list of prime numbers in memory.\n",
    "To generate primes on demand.\n",
    "Example with Explanation:"
   ]
  },
  {
   "cell_type": "code",
   "execution_count": 1,
   "id": "c049ce65-6e62-4d81-8fa3-76606f153603",
   "metadata": {},
   "outputs": [
    {
     "name": "stdout",
     "output_type": "stream",
     "text": [
      "2\n",
      "3\n",
      "5\n",
      "7\n",
      "11\n",
      "13\n",
      "17\n",
      "19\n",
      "23\n",
      "29\n",
      "31\n",
      "37\n",
      "41\n",
      "43\n",
      "47\n",
      "53\n",
      "59\n",
      "61\n",
      "67\n",
      "71\n"
     ]
    }
   ],
   "source": [
    "def prime_generator(limit):\n",
    "    for num in range(2, limit):\n",
    "        is_prime = all(num % i != 0 for i in range(2, int(num**0.5) + 1))\n",
    "        if is_prime:\n",
    "            yield num\n",
    "\n",
    "# Generator for primes less than 1000\n",
    "primes = prime_generator(1000)\n",
    "\n",
    "# Printing the first 20 prime numbers\n",
    "for _ in range(20):\n",
    "    print(next(primes))\n"
   ]
  },
  {
   "cell_type": "code",
   "execution_count": null,
   "id": "772be2cf-f917-4202-905c-2a750e487f38",
   "metadata": {},
   "outputs": [],
   "source": []
  }
 ],
 "metadata": {
  "kernelspec": {
   "display_name": "Python 3 (ipykernel)",
   "language": "python",
   "name": "python3"
  },
  "language_info": {
   "codemirror_mode": {
    "name": "ipython",
    "version": 3
   },
   "file_extension": ".py",
   "mimetype": "text/x-python",
   "name": "python",
   "nbconvert_exporter": "python",
   "pygments_lexer": "ipython3",
   "version": "3.11.5"
  }
 },
 "nbformat": 4,
 "nbformat_minor": 5
}

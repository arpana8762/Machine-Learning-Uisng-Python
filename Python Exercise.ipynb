{
 "cells": [
  {
   "cell_type": "markdown",
   "id": "00b44f65-5c19-4e0d-bd57-f09226f9e6ee",
   "metadata": {},
   "source": [
    "# Python Assignment\n",
    "\n",
    "# Q1. What are the characteristics of the tuples? Is tuple immutable?"
   ]
  },
  {
   "cell_type": "markdown",
   "id": "3bf120aa-2f1e-4452-9a79-7be1b5c315b2",
   "metadata": {},
   "source": [
    "###\n",
    "1. Answere: A comma-separated group of items is called a Python triple. The ordering, settled items, and reiterations of a tuple are to some degree like those of a rundown, but in contrast to a rundown, a tuple is unchanging.\r\n",
    "\r\n",
    "The main difference between the two is that we cannot alter the components of a tuple once they have been assigned. On the other hand, we can edit the contents of a list.p\n",
    "#### le.  \r\n",
    "Features of Python-  Tuple\r\n",
    "Tuples are an immutable data type, meaning their elements cannot be changed after they are gen- erated.\r\n",
    "Each element in a tuple has a specific order that will never change because tuples are ordered se\n",
    "#### quences.\r\n",
    "Forming-  a Tuple:\r\n",
    "All the objects-also known as \"elements\"-must be separated by a comma, enclosed in parenthesis (). Although parentheses are not required, they are rec- ommended.\r\n",
    "\r\n",
    "Any number of items, including those with various data types (dictionary, string, float, list, etc.), can be contained in a tuple.Tuples are ordered, indexed collections that are similar to lists but with some key differences:\n",
    "\n",
    "- **Immutable:** Once a tuple is created, its elements cannot be changed, added, or removed.\n",
    "- **Ordered:** The order of elements in a tuple is preserved.\n",
    "- **Allows Duplicate Items:** Like lists, tuples can contain duplicate items.\n",
    "- **Faster than Lists:** Tuples are generally faster than lists due to their immutability.\n",
    "Yes, a tuple is immutable."
   ]
  },
  {
   "cell_type": "code",
   "execution_count": 2,
   "id": "3c5de320-cc09-435d-92bc-2692dc9be526",
   "metadata": {},
   "outputs": [],
   "source": [
    "# Example 1\n",
    "\n",
    "cars=(\"Suzuki\", \"Audi\", \"BMW\",\" Skoda \") # is a **tuple.**  "
   ]
  },
  {
   "cell_type": "code",
   "execution_count": 4,
   "id": "862450b8-a080-46e1-8b81-841ef2fb7d4f",
   "metadata": {},
   "outputs": [
    {
     "name": "stdout",
     "output_type": "stream",
     "text": [
      "Original Tuple:  (1, 2, 3, 4, 5)\n"
     ]
    }
   ],
   "source": [
    "# Example 2\n",
    "# Defining a tuple\n",
    "my_tuple = (1, 2, 3, 4, 5)\n",
    "\n",
    "# Trying to change a value (This will throw an error)\n",
    "# my_tuple[0] = 10  # Uncomment to see the error\n",
    "\n",
    "print(\"Original Tuple: \", my_tuple)\n"
   ]
  },
  {
   "cell_type": "code",
   "execution_count": 5,
   "id": "23cae32a-57d9-4125-b294-a5e0d34c6e72",
   "metadata": {},
   "outputs": [
    {
     "name": "stdout",
     "output_type": "stream",
     "text": [
      "Empty tuple:  ()\n",
      "Tuple with integers:  (4, 6, 8, 10, 12, 14)\n",
      "Tuple with different data types:  (4, 'Python', 9.3)\n",
      "A nested tuple:  ('Python', {4: 5, 6: 2, 8: 2}, (5, 3, 5, 6))\n"
     ]
    }
   ],
   "source": [
    "# Example 3\n",
    "# Python program to show how to create a tuple    \n",
    "# Creating an empty tuple    \n",
    "empty_tuple = ()    \n",
    "print(\"Empty tuple: \", empty_tuple)    \n",
    "    \n",
    "# Creating tuple having integers    \n",
    "int_tuple = (4, 6, 8, 10, 12, 14)    \n",
    "print(\"Tuple with integers: \", int_tuple)    \n",
    "    \n",
    "# Creating a tuple having objects of different data types    \n",
    "mixed_tuple = (4, \"Python\", 9.3)    \n",
    "print(\"Tuple with different data types: \", mixed_tuple)    \n",
    "    \n",
    "# Creating a nested tuple    \n",
    "nested_tuple = (\"Python\", {4: 5, 6: 2, 8:2}, (5, 3, 5, 6))    \n",
    "print(\"A nested tuple: \", nested_tuple)    "
   ]
  },
  {
   "cell_type": "markdown",
   "id": "6b5f2b90-849f-4622-9cab-82630e7ae96d",
   "metadata": {},
   "source": [
    "# Q2. What are the two tuple methods in python? Give an example of each method. Give a reason why tuples have only two in-built methods as compared to Lists."
   ]
  },
  {
   "cell_type": "markdown",
   "id": "883ddc08-6e09-42b3-be54-4f7ae524b54d",
   "metadata": {},
   "source": [
    "# Answer:\n",
    "Like the list, Python Tuples is a collection of immutable objects. There are a few ways to work with tuples in Python. With some examples, this essay will go over these two approaches in detail.\r\n",
    "\r\n",
    "The following are some examples of these methods.e:\n",
    "\n",
    "- **count():\n",
    "- The times the predetermined component happens in the Tuple is returned by the count () capability of the Tuple.\n",
    "- * Returns the number of occurrences of a specified elementt.\n",
    "\n",
    "### Example:"
   ]
  },
  {
   "cell_type": "code",
   "execution_count": 6,
   "id": "08136a51-d010-4bb2-9ce2-462d596944a4",
   "metadata": {},
   "outputs": [
    {
     "name": "stdout",
     "output_type": "stream",
     "text": [
      "Count of 2 in T1 is: 5\n",
      "Count of Java in T2 is: 2\n"
     ]
    }
   ],
   "source": [
    "# Creating tuples  \n",
    "T1 = (0, 1, 5, 6, 7, 2, 2, 4, 2, 3, 2, 3, 1, 3, 2)  \n",
    "T2 = ('python', 'java', 'python', 'Tpoint', 'python', 'java')  \n",
    "# counting the appearance of 3  \n",
    "res = T1.count(2)  \n",
    "print('Count of 2 in T1 is:', res)  \n",
    "# counting the appearance of java  \n",
    "res = T2.count('java')  \n",
    "print('Count of Java in T2 is:', res)  "
   ]
  },
  {
   "cell_type": "markdown",
   "id": "bd6457e1-bb9f-41c6-8532-72a55fdb98bd",
   "metadata": {},
   "source": [
    "## Index() Method:\n",
    "The Index() function returns the first instance of the requested element from the Tuple.\n",
    "**index():** Returns the index of the first occurrence of a specified element.\n",
    "### Parameters:\n",
    "\n",
    "The thing that must be looked for.\n",
    "Start: (Optional) the index that is used to begin the final (optional) search: The most recent index from which the search is carried out\n",
    "Index Method\n",
    "### Code "
   ]
  },
  {
   "cell_type": "code",
   "execution_count": 8,
   "id": "ac8508e5-a65c-4b6b-86ba-002d419ffb54",
   "metadata": {},
   "outputs": [
    {
     "name": "stdout",
     "output_type": "stream",
     "text": [
      "First occurrence of 1 is 3\n",
      "First occurrence of 1 after 4th index is: 5\n"
     ]
    }
   ],
   "source": [
    "# Creating tuples  \n",
    "Tuple_data = (0, 1, 2, 3, 2, 3, 1, 3, 2)  \n",
    "# getting the index of 3  \n",
    "res = Tuple_data.index(3)  \n",
    "print('First occurrence of 1 is', res)  \n",
    "# getting the index of 3 after 4th  \n",
    "# index  \n",
    "res = Tuple_data.index(3, 4)  \n",
    "print('First occurrence of 1 after 4th index is:', res)  "
   ]
  },
  {
   "cell_type": "code",
   "execution_count": 9,
   "id": "4ebd550d-2cfa-453a-993e-7010bbd755d7",
   "metadata": {},
   "outputs": [
    {
     "name": "stdout",
     "output_type": "stream",
     "text": [
      "Count of 2 in the tuple: 3\n",
      "Index of 3 in the tuple: 3\n"
     ]
    }
   ],
   "source": [
    "# Defining a tuple\n",
    "my_tuple = (1, 2, 2, 3, 4, 5, 2)\n",
    "\n",
    "# Example of count()\n",
    "count_of_2 = my_tuple.count(2)  # Count occurrences of 2\n",
    "\n",
    "# Example of index()\n",
    "index_of_3 = my_tuple.index(3)  # Find the index of the first occurrence of 3\n",
    "\n",
    "print(f\"Count of 2 in the tuple: {count_of_2}\")\n",
    "print(f\"Index of 3 in the tuple: {index_of_3}\")"
   ]
  },
  {
   "cell_type": "markdown",
   "id": "41d6cf62-6a94-403a-8e81-bed0d3dbd957",
   "metadata": {},
   "source": [
    "### Tuples have only two methods because they are immutable, limiting operations like adding, removing, or modifying elements that would be available in lists."
   ]
  },
  {
   "cell_type": "markdown",
   "id": "fb30807b-ea9b-40ab-9c51-fc23b3efa483",
   "metadata": {},
   "source": [
    "# Q3. Which collection datatypes in python do not allow duplicate items? Write a code using a set to remove duplicates from the given list."
   ]
  },
  {
   "cell_type": "markdown",
   "id": "5d640400-c7a1-4740-9674-6a0affe822e5",
   "metadata": {},
   "source": [
    "# Answer:\n",
    "\n",
    "# SET:\n",
    "A Python set is the collection of the unordered items. Each element in the set must be unique, immutable, and the sets remove the duplicate elements. Sets are mutable which means we can modify it after its creation.\r\n",
    "\r\n",
    "Unlike other collections in Python, there is no index attached to the elements of the set, i.e., we cannot directly access any element of the set by the index. However, we can print them all together, or we can get the list of elements by looping through the set.# \r\n",
    "\r\n",
    "Creating a set\r\n",
    "The set can be created by enclosing the comma-separated immutable items with the curly braces {}. Python also provides the set() method, which can be used to create the set by the passed sequen# ce.\r\n",
    "\r\n",
    "Example 1  Usin  curly\n",
    "\n",
    "a xample:"
   ]
  },
  {
   "cell_type": "code",
   "execution_count": 14,
   "id": "606c249c-c918-49dd-83d0-986d4a45d3c4",
   "metadata": {},
   "outputs": [
    {
     "name": "stdout",
     "output_type": "stream",
     "text": [
      "{'Monday', 'Saturday', 'Tuesday', 'Sunday', 'Wednesday', 'Friday', 'Thursday'}\n",
      "<class 'set'>\n",
      "looping through the set elements ... \n",
      "Monday\n",
      "Saturday\n",
      "Tuesday\n",
      "Sunday\n",
      "Wednesday\n",
      "Friday\n",
      "Thursday\n"
     ]
    }
   ],
   "source": [
    "Days = {\"Monday\", \"Tuesday\", \"Wednesday\", \"Thursday\", \"Friday\", \"Saturday\", \"Sunday\", \"Thursday\", \"Friday\", \"Saturday\"}    \n",
    "print(Days)    \n",
    "print(type(Days))    \n",
    "print(\"looping through the set elements ... \")    \n",
    "for i in Days:    \n",
    "    print(i)    "
   ]
  },
  {
   "cell_type": "markdown",
   "id": "dc63910f-8bd3-4830-9e7f-ce8c714cee90",
   "metadata": {},
   "source": [
    "Sets do not allow duplicate items in Python. You can use a set to remove duplicates from a list."
   ]
  },
  {
   "cell_type": "code",
   "execution_count": 15,
   "id": "dc55bc22-51ec-4d9e-9f19-747020ac3871",
   "metadata": {},
   "outputs": [
    {
     "name": "stdout",
     "output_type": "stream",
     "text": [
      "List after removing duplicates:  [1, 2, 3, 4]\n"
     ]
    }
   ],
   "source": [
    "# Given list\n",
    "my_list = [1, 1, 1, 2, 1, 3, 1, 4, 2, 1, 2, 2, 2, 3, 2, 4, 3, 1, 3, 2, 3, 3, 3, 4, 4, 1, 4, 2, 4, 3, 4, 4]\n",
    "\n",
    "# Converting list to a set to remove duplicates\n",
    "my_set = set(my_list)\n",
    "\n",
    "# Converting back to list\n",
    "unique_list = list(my_set)\n",
    "\n",
    "print(\"List after removing duplicates: \", unique_list)\n"
   ]
  },
  {
   "cell_type": "markdown",
   "id": "e5f6a5af-c9df-4be7-84fb-44912f2f568c",
   "metadata": {},
   "source": [
    "# Q4. Explain the difference between the union() and update() methods for a set."
   ]
  },
  {
   "cell_type": "markdown",
   "id": "4c0c14c2-9dab-4473-a58d-6593647d3117",
   "metadata": {},
   "source": [
    "# Answer:\n",
    "\n",
    "**union():** Returns a new set containing elements from both sets without modifying the original sets.\n",
    "\n",
    "**update():** Adds elements from another set to the existing set (modifies the original set).\n",
    "\n",
    "# Example:"
   ]
  },
  {
   "cell_type": "code",
   "execution_count": 16,
   "id": "0cdb37db-32e4-4f92-bd24-edd38dabf3d6",
   "metadata": {},
   "outputs": [
    {
     "name": "stdout",
     "output_type": "stream",
     "text": [
      "Result of union(): {1, 2, 3, 4, 5}\n",
      "Result of update(): {1, 2, 3, 4, 5}\n"
     ]
    }
   ],
   "source": [
    "# Defining two sets\n",
    "set1 = {1, 2, 3}\n",
    "set2 = {3, 4, 5}\n",
    "\n",
    "# union() - returns a new set\n",
    "union_set = set1.union(set2)\n",
    "print(\"Result of union():\", union_set)  # Output: {1, 2, 3, 4, 5}\n",
    "\n",
    "# update() - modifies the original set1\n",
    "set1.update(set2)\n",
    "print(\"Result of update():\", set1)  # Output: {1, 2, 3, 4, 5}\n"
   ]
  },
  {
   "cell_type": "markdown",
   "id": "8c01456b-b07f-49e8-b068-723f03398744",
   "metadata": {},
   "source": [
    "# Q5. What is a dictionary? Give an example. Also, state whether a dictionary is ordered or unordered.\n",
    " "
   ]
  },
  {
   "cell_type": "markdown",
   "id": "478421ef-01b8-4857-b123-cfba42d20ad8",
   "metadata": {},
   "source": [
    "# Answer:\n",
    "A dictionary is a collection of key-value pairs. In Python 3.7 and later, dictionaries are ordered by insertion. In earlier versions, dictionaries were unordered.\n",
    "\n",
    "Dictionaries are a useful data structure for storing data in Python because they are capable of imitating real-world data arrangements where a certain value exists for a given key.\r\n",
    "- The data is stored as key value pairs using a Python dictionary.\r\n",
    "- This data structure is mutable.\r\n",
    "- The components of dictionary were made using keys and values.\r\n",
    "- Keys must only have one component.\r\n",
    "- Values can be of any type, including integer, list, and tuple.\r\n",
    "\r\n",
    "A dictionary is, in other words, a group of key-value pairs, where the values can be any Python object. The keys, in contrast, are immutable Python objects, such as strings, tuples, or numbers. Dictionary entries are ordered as of Python version 3.7. In Python 3.6 and before, dictionaries are generally unordered.\r\n",
    "\r\n",
    "# Creating the Dictionary\r\n",
    "Curly brackets are the simplest way to generate a Python dictionary, although there are other approaches as well. With many key-value pairs surrounded in curly brackets and a colon separating each key from its value, the dictionary can be built. (:). The following provides the syntax for defining the dictionary..\",it        \r\n",
    "print(Employee)       "
   ]
  },
  {
   "cell_type": "code",
   "execution_count": 18,
   "id": "a91e0e78-9e21-4811-ad17-e1cd21997238",
   "metadata": {},
   "outputs": [],
   "source": [
    "Dict = {\"Name\": \"Gayle\", \"Age\": 25}  "
   ]
  },
  {
   "cell_type": "markdown",
   "id": "a085dceb-af91-4b16-b458-970c91c70dce",
   "metadata": {},
   "source": [
    "In the above dictionary Dict, The keys Name and Age are the strings which comes under the category of an immutable object.\n",
    "\n",
    "Let's see an example to create a dictionary and print its content.\n",
    "\n",
    "# Code"
   ]
  },
  {
   "cell_type": "code",
   "execution_count": 19,
   "id": "23245a26-cef7-4c23-b074-1963dc646010",
   "metadata": {},
   "outputs": [
    {
     "name": "stdout",
     "output_type": "stream",
     "text": [
      "<class 'dict'>\n",
      "printing Employee data .... \n",
      "{'Name': 'Johnny', 'Age': 32, 'salary': 26000, 'Company': '^TCS'}\n"
     ]
    }
   ],
   "source": [
    "Employee = {\"Name\": \"Johnny\", \"Age\": 32, \"salary\":26000,\"Company\":\"^TCS\"}        \n",
    "print(type(Employee))        \n",
    "print(\"printing Employee data .... \")        \n",
    "print(Employee)"
   ]
  },
  {
   "cell_type": "markdown",
   "id": "5aba0139-f9c1-4859-b9d2-0f5d614255dc",
   "metadata": {},
   "source": [
    "# Q6. Can we create a nested dictionary? If so, please give an example by creating a simple one-level nested dictionary.\n",
    "\n",
    "# Answer:\n",
    "\n",
    "Yes, you can create a nested dictionary, which is a dictionary inside another dictionary.\n",
    "\n",
    "# Example:"
   ]
  },
  {
   "cell_type": "code",
   "execution_count": 20,
   "id": "cfdac854-6727-4914-bdb7-8a7c329f93a6",
   "metadata": {},
   "outputs": [
    {
     "name": "stdout",
     "output_type": "stream",
     "text": [
      "Nested Dictionary:  {'student1': {'name': 'John', 'age': 22}, 'student2': {'name': 'Jane', 'age': 23}}\n"
     ]
    }
   ],
   "source": [
    "# Creating a nested dictionary\n",
    "nested_dict = {\n",
    "    'student1': {'name': 'John', 'age': 22},\n",
    "    'student2': {'name': 'Jane', 'age': 23}\n",
    "}\n",
    "\n",
    "print(\"Nested Dictionary: \", nested_dict)\n"
   ]
  },
  {
   "cell_type": "markdown",
   "id": "e2058e13-54c7-4ee4-a638-3bce4849e2e7",
   "metadata": {},
   "source": [
    "# Q7. Using setdefault() method, create a key named topics in the given dictionary and also add the value of the key as this list ['Python', 'Machine Learning', 'Deep Learning'].\n",
    "\n",
    "# Example:\r\n"
   ]
  },
  {
   "cell_type": "code",
   "execution_count": 21,
   "id": "2b4dfeee-a155-477c-a444-83b127e87f09",
   "metadata": {},
   "outputs": [
    {
     "name": "stdout",
     "output_type": "stream",
     "text": [
      "Updated Dictionary:  {'language': 'Python', 'course': 'Data Science Masters', 'topics': ['Python', 'Machine Learning', 'Deep Learning']}\n"
     ]
    }
   ],
   "source": [
    "# Given dictionary\n",
    "dict1 = {'language': 'Python', 'course': 'Data Science Masters'}\n",
    "\n",
    "# Using setdefault to add a new key 'topics'\n",
    "dict1.setdefault('topics', ['Python', 'Machine Learning', 'Deep Learning'])\n",
    "\n",
    "print(\"Updated Dictionary: \", dict1)\n"
   ]
  },
  {
   "cell_type": "markdown",
   "id": "82f5cefb-5205-403e-880e-69b2af5b55f3",
   "metadata": {},
   "source": [
    "# Q8. What are the three view objects in dictionaries? Use the three in-built methods in python to display these three view objects for the given dictionary."
   ]
  },
  {
   "cell_type": "markdown",
   "id": "cac4dc29-30dc-4364-8406-104ebaa47bd1",
   "metadata": {},
   "source": [
    "# Answer:\r\n",
    "The three view objects in dictionaries are:\r\n",
    "### 1.\tdict.keys(): Displays all the keys.\r\n",
    "### 2.\tdict.values(): Displays all the values.\r\n",
    "### 3.\tdict.items(): Displays all the key-value pa\n",
    "\n",
    "le:\r\n",
    "mple:\r\n"
   ]
  },
  {
   "cell_type": "code",
   "execution_count": 22,
   "id": "e6547860-2404-4f7b-bf4e-2ac7466ab433",
   "metadata": {},
   "outputs": [
    {
     "name": "stdout",
     "output_type": "stream",
     "text": [
      "Keys:  dict_keys(['Sport', 'Teams'])\n",
      "Values:  dict_values(['Cricket', ['India', 'Australia', 'England', 'South Africa', 'Sri Lanka', 'New Zealand']])\n",
      "Items:  dict_items([('Sport', 'Cricket'), ('Teams', ['India', 'Australia', 'England', 'South Africa', 'Sri Lanka', 'New Zealand'])])\n"
     ]
    }
   ],
   "source": [
    "# Given dictionary\n",
    "dict1 = {'Sport': 'Cricket', 'Teams': ['India', 'Australia', 'England', 'South Africa', 'Sri Lanka', 'New Zealand']}\n",
    "\n",
    "# Displaying keys\n",
    "keys_view = dict1.keys()\n",
    "print(\"Keys: \", keys_view)\n",
    "\n",
    "# Displaying values\n",
    "values_view = dict1.values()\n",
    "print(\"Values: \", values_view)\n",
    "\n",
    "# Displaying items (key-value pairs)\n",
    "items_view = dict1.items()\n",
    "print(\"Items: \", items_view)\n"
   ]
  },
  {
   "cell_type": "code",
   "execution_count": null,
   "id": "16c64c69-8339-4d63-ae3f-df5309cc2e70",
   "metadata": {},
   "outputs": [],
   "source": []
  }
 ],
 "metadata": {
  "kernelspec": {
   "display_name": "Python 3 (ipykernel)",
   "language": "python",
   "name": "python3"
  },
  "language_info": {
   "codemirror_mode": {
    "name": "ipython",
    "version": 3
   },
   "file_extension": ".py",
   "mimetype": "text/x-python",
   "name": "python",
   "nbconvert_exporter": "python",
   "pygments_lexer": "ipython3",
   "version": "3.11.5"
  }
 },
 "nbformat": 4,
 "nbformat_minor": 5
}
